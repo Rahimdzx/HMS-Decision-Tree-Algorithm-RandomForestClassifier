{
 "cells": [
  {
   "cell_type": "markdown",
   "id": "e8a92902",
   "metadata": {
    "papermill": {
     "duration": 0.019185,
     "end_time": "2024-03-20T08:42:10.108931",
     "exception": false,
     "start_time": "2024-03-20T08:42:10.089746",
     "status": "completed"
    },
    "tags": []
   },
   "source": [
    "# Harmful Brain Activity \n",
    "#  Decision Trees (DTs) : \n",
    "What is a decision tree?\n",
    "A decision tree is a non-parametric supervised learning algorithm, which is utilized for both classification and regression tasks. It has a hierarchical, tree structure, which consists of a root node, branches, internal nodes and leaf nodes."
   ]
  },
  {
   "cell_type": "markdown",
   "id": "b00baac1",
   "metadata": {
    "papermill": {
     "duration": 0.018176,
     "end_time": "2024-03-20T08:42:10.145907",
     "exception": false,
     "start_time": "2024-03-20T08:42:10.127731",
     "status": "completed"
    },
    "tags": []
   },
   "source": [
    "# exploratory Data Analysis (EDA):\n",
    "is crucial for developing effective machine learning models. This article discusses the various techniques and methods used in EDA, such as scatter plots, histograms, box plots, and descriptive statistics, to identify trends and patterns in datasets. It also explains how to handle missing values and transform categorical and numerical data for optimal data preparation.\n",
    "\n",
    "Additionally, the article covers the process of model selection and optimization, including hyperparameter tuning using GridSearchCV, evaluating model performance using metrics like accuracy, classification report, confusion matrix, and ROC-AUC score, and cross-validation. By following these steps, readers can create accurate and effective machine learning solutions.\n",
    "\n",
    "# Why is it important to perform EDA?\n",
    "# Methods and techniques of EDA:\n",
    "There are several techniques and methods for performing an EDA, such as scatter plots, histograms, box plots, and descriptive statistics. The choice of techniques depends on the nature of the data and the goal of the analysis.\n",
    "\n",
    "# Data visualization:\n",
    "Data visualization is a powerful tool for identifying trends and patterns in datasets. Charts such as lines, bars, scatter, and box plots facilitate the identification of relationships between variables, frequency distributions, and the presence of outliers."
   ]
  },
  {
   "cell_type": "markdown",
   "id": "12556ac0",
   "metadata": {
    "papermill": {
     "duration": 0.018187,
     "end_time": "2024-03-20T08:42:10.182750",
     "exception": false,
     "start_time": "2024-03-20T08:42:10.164563",
     "status": "completed"
    },
    "tags": []
   },
   "source": [
    "# Import libraries\n"
   ]
  },
  {
   "cell_type": "code",
   "execution_count": 1,
   "id": "9bc98c65",
   "metadata": {
    "execution": {
     "iopub.execute_input": "2024-03-20T08:42:10.225724Z",
     "iopub.status.busy": "2024-03-20T08:42:10.225080Z",
     "iopub.status.idle": "2024-03-20T08:42:31.167281Z",
     "shell.execute_reply": "2024-03-20T08:42:31.166117Z"
    },
    "papermill": {
     "duration": 20.967654,
     "end_time": "2024-03-20T08:42:31.170424",
     "exception": false,
     "start_time": "2024-03-20T08:42:10.202770",
     "status": "completed"
    },
    "tags": []
   },
   "outputs": [
    {
     "name": "stderr",
     "output_type": "stream",
     "text": [
      "2024-03-20 08:42:16.287166: E external/local_xla/xla/stream_executor/cuda/cuda_dnn.cc:9261] Unable to register cuDNN factory: Attempting to register factory for plugin cuDNN when one has already been registered\n",
      "2024-03-20 08:42:16.287386: E external/local_xla/xla/stream_executor/cuda/cuda_fft.cc:607] Unable to register cuFFT factory: Attempting to register factory for plugin cuFFT when one has already been registered\n",
      "2024-03-20 08:42:16.506691: E external/local_xla/xla/stream_executor/cuda/cuda_blas.cc:1515] Unable to register cuBLAS factory: Attempting to register factory for plugin cuBLAS when one has already been registered\n"
     ]
    }
   ],
   "source": [
    "import pandas as pd \n",
    "import numpy as np \n",
    "\n",
    "import matplotlib.pyplot as plt \n",
    "import seaborn as sns \n",
    "\n",
    "import tensorflow as tf \n",
    "\n",
    "from sklearn.preprocessing import LabelEncoder\n",
    "from sklearn.model_selection import train_test_split\n",
    "\n",
    "from tensorflow.keras.models import Sequential\n",
    "from tensorflow.keras.layers import Conv2D, MaxPooling2D, Flatten, Dense, Dropout\n",
    "\n",
    "from sklearn.tree import DecisionTreeClassifier\n",
    "from sklearn.ensemble import RandomForestClassifier\n",
    "\n",
    "from sklearn.svm import SVC\n",
    "from sklearn.metrics import accuracy_score"
   ]
  },
  {
   "cell_type": "markdown",
   "id": "6f124586",
   "metadata": {
    "papermill": {
     "duration": 0.018938,
     "end_time": "2024-03-20T08:42:31.208087",
     "exception": false,
     "start_time": "2024-03-20T08:42:31.189149",
     "status": "completed"
    },
    "tags": []
   },
   "source": [
    "# Load the `train.csv` dataset"
   ]
  },
  {
   "cell_type": "code",
   "execution_count": 2,
   "id": "3eac0b0e",
   "metadata": {
    "execution": {
     "iopub.execute_input": "2024-03-20T08:42:31.247812Z",
     "iopub.status.busy": "2024-03-20T08:42:31.246567Z",
     "iopub.status.idle": "2024-03-20T08:42:31.549246Z",
     "shell.execute_reply": "2024-03-20T08:42:31.547967Z"
    },
    "papermill": {
     "duration": 0.325842,
     "end_time": "2024-03-20T08:42:31.552396",
     "exception": false,
     "start_time": "2024-03-20T08:42:31.226554",
     "status": "completed"
    },
    "tags": []
   },
   "outputs": [],
   "source": [
    "\n",
    "train_data = pd.read_csv(\"/kaggle/input/hms-harmful-brain-activity-classification/train.csv\")"
   ]
  },
  {
   "cell_type": "markdown",
   "id": "89b6aa03",
   "metadata": {
    "papermill": {
     "duration": 0.018372,
     "end_time": "2024-03-20T08:42:31.589552",
     "exception": false,
     "start_time": "2024-03-20T08:42:31.571180",
     "status": "completed"
    },
    "tags": []
   },
   "source": [
    "# Print the 10 rows of the dataset\n"
   ]
  },
  {
   "cell_type": "code",
   "execution_count": 3,
   "id": "87a2cd10",
   "metadata": {
    "execution": {
     "iopub.execute_input": "2024-03-20T08:42:31.628662Z",
     "iopub.status.busy": "2024-03-20T08:42:31.628200Z",
     "iopub.status.idle": "2024-03-20T08:42:31.658510Z",
     "shell.execute_reply": "2024-03-20T08:42:31.657315Z"
    },
    "papermill": {
     "duration": 0.053145,
     "end_time": "2024-03-20T08:42:31.661151",
     "exception": false,
     "start_time": "2024-03-20T08:42:31.608006",
     "status": "completed"
    },
    "tags": []
   },
   "outputs": [
    {
     "data": {
      "text/html": [
       "<div>\n",
       "<style scoped>\n",
       "    .dataframe tbody tr th:only-of-type {\n",
       "        vertical-align: middle;\n",
       "    }\n",
       "\n",
       "    .dataframe tbody tr th {\n",
       "        vertical-align: top;\n",
       "    }\n",
       "\n",
       "    .dataframe thead th {\n",
       "        text-align: right;\n",
       "    }\n",
       "</style>\n",
       "<table border=\"1\" class=\"dataframe\">\n",
       "  <thead>\n",
       "    <tr style=\"text-align: right;\">\n",
       "      <th></th>\n",
       "      <th>eeg_id</th>\n",
       "      <th>eeg_sub_id</th>\n",
       "      <th>eeg_label_offset_seconds</th>\n",
       "      <th>spectrogram_id</th>\n",
       "      <th>spectrogram_sub_id</th>\n",
       "      <th>spectrogram_label_offset_seconds</th>\n",
       "      <th>label_id</th>\n",
       "      <th>patient_id</th>\n",
       "      <th>expert_consensus</th>\n",
       "      <th>seizure_vote</th>\n",
       "      <th>lpd_vote</th>\n",
       "      <th>gpd_vote</th>\n",
       "      <th>lrda_vote</th>\n",
       "      <th>grda_vote</th>\n",
       "      <th>other_vote</th>\n",
       "    </tr>\n",
       "  </thead>\n",
       "  <tbody>\n",
       "    <tr>\n",
       "      <th>0</th>\n",
       "      <td>1628180742</td>\n",
       "      <td>0</td>\n",
       "      <td>0.0</td>\n",
       "      <td>353733</td>\n",
       "      <td>0</td>\n",
       "      <td>0.0</td>\n",
       "      <td>127492639</td>\n",
       "      <td>42516</td>\n",
       "      <td>Seizure</td>\n",
       "      <td>3</td>\n",
       "      <td>0</td>\n",
       "      <td>0</td>\n",
       "      <td>0</td>\n",
       "      <td>0</td>\n",
       "      <td>0</td>\n",
       "    </tr>\n",
       "    <tr>\n",
       "      <th>1</th>\n",
       "      <td>1628180742</td>\n",
       "      <td>1</td>\n",
       "      <td>6.0</td>\n",
       "      <td>353733</td>\n",
       "      <td>1</td>\n",
       "      <td>6.0</td>\n",
       "      <td>3887563113</td>\n",
       "      <td>42516</td>\n",
       "      <td>Seizure</td>\n",
       "      <td>3</td>\n",
       "      <td>0</td>\n",
       "      <td>0</td>\n",
       "      <td>0</td>\n",
       "      <td>0</td>\n",
       "      <td>0</td>\n",
       "    </tr>\n",
       "    <tr>\n",
       "      <th>2</th>\n",
       "      <td>1628180742</td>\n",
       "      <td>2</td>\n",
       "      <td>8.0</td>\n",
       "      <td>353733</td>\n",
       "      <td>2</td>\n",
       "      <td>8.0</td>\n",
       "      <td>1142670488</td>\n",
       "      <td>42516</td>\n",
       "      <td>Seizure</td>\n",
       "      <td>3</td>\n",
       "      <td>0</td>\n",
       "      <td>0</td>\n",
       "      <td>0</td>\n",
       "      <td>0</td>\n",
       "      <td>0</td>\n",
       "    </tr>\n",
       "    <tr>\n",
       "      <th>3</th>\n",
       "      <td>1628180742</td>\n",
       "      <td>3</td>\n",
       "      <td>18.0</td>\n",
       "      <td>353733</td>\n",
       "      <td>3</td>\n",
       "      <td>18.0</td>\n",
       "      <td>2718991173</td>\n",
       "      <td>42516</td>\n",
       "      <td>Seizure</td>\n",
       "      <td>3</td>\n",
       "      <td>0</td>\n",
       "      <td>0</td>\n",
       "      <td>0</td>\n",
       "      <td>0</td>\n",
       "      <td>0</td>\n",
       "    </tr>\n",
       "    <tr>\n",
       "      <th>4</th>\n",
       "      <td>1628180742</td>\n",
       "      <td>4</td>\n",
       "      <td>24.0</td>\n",
       "      <td>353733</td>\n",
       "      <td>4</td>\n",
       "      <td>24.0</td>\n",
       "      <td>3080632009</td>\n",
       "      <td>42516</td>\n",
       "      <td>Seizure</td>\n",
       "      <td>3</td>\n",
       "      <td>0</td>\n",
       "      <td>0</td>\n",
       "      <td>0</td>\n",
       "      <td>0</td>\n",
       "      <td>0</td>\n",
       "    </tr>\n",
       "    <tr>\n",
       "      <th>5</th>\n",
       "      <td>1628180742</td>\n",
       "      <td>5</td>\n",
       "      <td>26.0</td>\n",
       "      <td>353733</td>\n",
       "      <td>5</td>\n",
       "      <td>26.0</td>\n",
       "      <td>2413091605</td>\n",
       "      <td>42516</td>\n",
       "      <td>Seizure</td>\n",
       "      <td>3</td>\n",
       "      <td>0</td>\n",
       "      <td>0</td>\n",
       "      <td>0</td>\n",
       "      <td>0</td>\n",
       "      <td>0</td>\n",
       "    </tr>\n",
       "    <tr>\n",
       "      <th>6</th>\n",
       "      <td>1628180742</td>\n",
       "      <td>6</td>\n",
       "      <td>30.0</td>\n",
       "      <td>353733</td>\n",
       "      <td>6</td>\n",
       "      <td>30.0</td>\n",
       "      <td>364593930</td>\n",
       "      <td>42516</td>\n",
       "      <td>Seizure</td>\n",
       "      <td>3</td>\n",
       "      <td>0</td>\n",
       "      <td>0</td>\n",
       "      <td>0</td>\n",
       "      <td>0</td>\n",
       "      <td>0</td>\n",
       "    </tr>\n",
       "    <tr>\n",
       "      <th>7</th>\n",
       "      <td>1628180742</td>\n",
       "      <td>7</td>\n",
       "      <td>36.0</td>\n",
       "      <td>353733</td>\n",
       "      <td>7</td>\n",
       "      <td>36.0</td>\n",
       "      <td>3811483573</td>\n",
       "      <td>42516</td>\n",
       "      <td>Seizure</td>\n",
       "      <td>3</td>\n",
       "      <td>0</td>\n",
       "      <td>0</td>\n",
       "      <td>0</td>\n",
       "      <td>0</td>\n",
       "      <td>0</td>\n",
       "    </tr>\n",
       "    <tr>\n",
       "      <th>8</th>\n",
       "      <td>1628180742</td>\n",
       "      <td>8</td>\n",
       "      <td>40.0</td>\n",
       "      <td>353733</td>\n",
       "      <td>8</td>\n",
       "      <td>40.0</td>\n",
       "      <td>3388718494</td>\n",
       "      <td>42516</td>\n",
       "      <td>Seizure</td>\n",
       "      <td>3</td>\n",
       "      <td>0</td>\n",
       "      <td>0</td>\n",
       "      <td>0</td>\n",
       "      <td>0</td>\n",
       "      <td>0</td>\n",
       "    </tr>\n",
       "    <tr>\n",
       "      <th>9</th>\n",
       "      <td>2277392603</td>\n",
       "      <td>0</td>\n",
       "      <td>0.0</td>\n",
       "      <td>924234</td>\n",
       "      <td>0</td>\n",
       "      <td>0.0</td>\n",
       "      <td>1978807404</td>\n",
       "      <td>30539</td>\n",
       "      <td>GPD</td>\n",
       "      <td>0</td>\n",
       "      <td>0</td>\n",
       "      <td>5</td>\n",
       "      <td>0</td>\n",
       "      <td>1</td>\n",
       "      <td>5</td>\n",
       "    </tr>\n",
       "  </tbody>\n",
       "</table>\n",
       "</div>"
      ],
      "text/plain": [
       "       eeg_id  eeg_sub_id  eeg_label_offset_seconds  spectrogram_id  \\\n",
       "0  1628180742           0                       0.0          353733   \n",
       "1  1628180742           1                       6.0          353733   \n",
       "2  1628180742           2                       8.0          353733   \n",
       "3  1628180742           3                      18.0          353733   \n",
       "4  1628180742           4                      24.0          353733   \n",
       "5  1628180742           5                      26.0          353733   \n",
       "6  1628180742           6                      30.0          353733   \n",
       "7  1628180742           7                      36.0          353733   \n",
       "8  1628180742           8                      40.0          353733   \n",
       "9  2277392603           0                       0.0          924234   \n",
       "\n",
       "   spectrogram_sub_id  spectrogram_label_offset_seconds    label_id  \\\n",
       "0                   0                               0.0   127492639   \n",
       "1                   1                               6.0  3887563113   \n",
       "2                   2                               8.0  1142670488   \n",
       "3                   3                              18.0  2718991173   \n",
       "4                   4                              24.0  3080632009   \n",
       "5                   5                              26.0  2413091605   \n",
       "6                   6                              30.0   364593930   \n",
       "7                   7                              36.0  3811483573   \n",
       "8                   8                              40.0  3388718494   \n",
       "9                   0                               0.0  1978807404   \n",
       "\n",
       "   patient_id expert_consensus  seizure_vote  lpd_vote  gpd_vote  lrda_vote  \\\n",
       "0       42516          Seizure             3         0         0          0   \n",
       "1       42516          Seizure             3         0         0          0   \n",
       "2       42516          Seizure             3         0         0          0   \n",
       "3       42516          Seizure             3         0         0          0   \n",
       "4       42516          Seizure             3         0         0          0   \n",
       "5       42516          Seizure             3         0         0          0   \n",
       "6       42516          Seizure             3         0         0          0   \n",
       "7       42516          Seizure             3         0         0          0   \n",
       "8       42516          Seizure             3         0         0          0   \n",
       "9       30539              GPD             0         0         5          0   \n",
       "\n",
       "   grda_vote  other_vote  \n",
       "0          0           0  \n",
       "1          0           0  \n",
       "2          0           0  \n",
       "3          0           0  \n",
       "4          0           0  \n",
       "5          0           0  \n",
       "6          0           0  \n",
       "7          0           0  \n",
       "8          0           0  \n",
       "9          1           5  "
      ]
     },
     "execution_count": 3,
     "metadata": {},
     "output_type": "execute_result"
    }
   ],
   "source": [
    "train_data.head(10)"
   ]
  },
  {
   "cell_type": "markdown",
   "id": "892f9f57",
   "metadata": {
    "papermill": {
     "duration": 0.019319,
     "end_time": "2024-03-20T08:42:31.699377",
     "exception": false,
     "start_time": "2024-03-20T08:42:31.680058",
     "status": "completed"
    },
    "tags": []
   },
   "source": [
    "# Remove all the warnings\n"
   ]
  },
  {
   "cell_type": "code",
   "execution_count": 4,
   "id": "5e5d5fd6",
   "metadata": {
    "execution": {
     "iopub.execute_input": "2024-03-20T08:42:31.739841Z",
     "iopub.status.busy": "2024-03-20T08:42:31.739404Z",
     "iopub.status.idle": "2024-03-20T08:42:31.744907Z",
     "shell.execute_reply": "2024-03-20T08:42:31.743695Z"
    },
    "papermill": {
     "duration": 0.029079,
     "end_time": "2024-03-20T08:42:31.747529",
     "exception": false,
     "start_time": "2024-03-20T08:42:31.718450",
     "status": "completed"
    },
    "tags": []
   },
   "outputs": [],
   "source": [
    "import warnings\n",
    "warnings.filterwarnings('ignore')"
   ]
  },
  {
   "cell_type": "markdown",
   "id": "1f483309",
   "metadata": {
    "papermill": {
     "duration": 0.018585,
     "end_time": "2024-03-20T08:42:31.785058",
     "exception": false,
     "start_time": "2024-03-20T08:42:31.766473",
     "status": "completed"
    },
    "tags": []
   },
   "source": [
    "# Check for Missing values and Duplicated columns"
   ]
  },
  {
   "cell_type": "code",
   "execution_count": 5,
   "id": "e0e2e96a",
   "metadata": {
    "execution": {
     "iopub.execute_input": "2024-03-20T08:42:31.825105Z",
     "iopub.status.busy": "2024-03-20T08:42:31.824393Z",
     "iopub.status.idle": "2024-03-20T08:42:31.869344Z",
     "shell.execute_reply": "2024-03-20T08:42:31.868122Z"
    },
    "papermill": {
     "duration": 0.068189,
     "end_time": "2024-03-20T08:42:31.872042",
     "exception": false,
     "start_time": "2024-03-20T08:42:31.803853",
     "status": "completed"
    },
    "tags": []
   },
   "outputs": [
    {
     "name": "stdout",
     "output_type": "stream",
     "text": [
      "<class 'pandas.core.frame.DataFrame'>\n",
      "RangeIndex: 106800 entries, 0 to 106799\n",
      "Data columns (total 15 columns):\n",
      " #   Column                            Non-Null Count   Dtype  \n",
      "---  ------                            --------------   -----  \n",
      " 0   eeg_id                            106800 non-null  int64  \n",
      " 1   eeg_sub_id                        106800 non-null  int64  \n",
      " 2   eeg_label_offset_seconds          106800 non-null  float64\n",
      " 3   spectrogram_id                    106800 non-null  int64  \n",
      " 4   spectrogram_sub_id                106800 non-null  int64  \n",
      " 5   spectrogram_label_offset_seconds  106800 non-null  float64\n",
      " 6   label_id                          106800 non-null  int64  \n",
      " 7   patient_id                        106800 non-null  int64  \n",
      " 8   expert_consensus                  106800 non-null  object \n",
      " 9   seizure_vote                      106800 non-null  int64  \n",
      " 10  lpd_vote                          106800 non-null  int64  \n",
      " 11  gpd_vote                          106800 non-null  int64  \n",
      " 12  lrda_vote                         106800 non-null  int64  \n",
      " 13  grda_vote                         106800 non-null  int64  \n",
      " 14  other_vote                        106800 non-null  int64  \n",
      "dtypes: float64(2), int64(12), object(1)\n",
      "memory usage: 12.2+ MB\n"
     ]
    }
   ],
   "source": [
    "train_data.info()"
   ]
  },
  {
   "cell_type": "markdown",
   "id": "fa09b4ef",
   "metadata": {
    "papermill": {
     "duration": 0.018888,
     "end_time": "2024-03-20T08:42:31.910623",
     "exception": false,
     "start_time": "2024-03-20T08:42:31.891735",
     "status": "completed"
    },
    "tags": []
   },
   "source": [
    "# Plot the missing values \n"
   ]
  },
  {
   "cell_type": "code",
   "execution_count": 6,
   "id": "372b1256",
   "metadata": {
    "execution": {
     "iopub.execute_input": "2024-03-20T08:42:31.951834Z",
     "iopub.status.busy": "2024-03-20T08:42:31.951327Z",
     "iopub.status.idle": "2024-03-20T08:42:32.396798Z",
     "shell.execute_reply": "2024-03-20T08:42:32.395473Z"
    },
    "papermill": {
     "duration": 0.470098,
     "end_time": "2024-03-20T08:42:32.399697",
     "exception": false,
     "start_time": "2024-03-20T08:42:31.929599",
     "status": "completed"
    },
    "tags": []
   },
   "outputs": [
    {
     "data": {
      "image/png": "[encoded data removed]",
      "text/plain": [
       "<Figure size 640x480 with 1 Axes>"
      ]
     },
     "metadata": {},
     "output_type": "display_data"
    }
   ],
   "source": [
    "train_data.isna().sum().plot(kind='bar')\n",
    "plt.title('Missing values in the dataset')\n",
    "plt.show()"
   ]
  },
  {
   "cell_type": "markdown",
   "id": "2873d3cb",
   "metadata": {
    "papermill": {
     "duration": 0.020057,
     "end_time": "2024-03-20T08:42:32.440413",
     "exception": false,
     "start_time": "2024-03-20T08:42:32.420356",
     "status": "completed"
    },
    "tags": []
   },
   "source": [
    "# Missing values before preprocessing:\n"
   ]
  },
  {
   "cell_type": "code",
   "execution_count": 7,
   "id": "523e2f28",
   "metadata": {
    "execution": {
     "iopub.execute_input": "2024-03-20T08:42:32.485012Z",
     "iopub.status.busy": "2024-03-20T08:42:32.484497Z",
     "iopub.status.idle": "2024-03-20T08:42:32.507420Z",
     "shell.execute_reply": "2024-03-20T08:42:32.506055Z"
    },
    "papermill": {
     "duration": 0.048627,
     "end_time": "2024-03-20T08:42:32.510115",
     "exception": false,
     "start_time": "2024-03-20T08:42:32.461488",
     "status": "completed"
    },
    "tags": []
   },
   "outputs": [
    {
     "name": "stdout",
     "output_type": "stream",
     "text": [
      "Missing values before preprocessing:\n",
      "eeg_id                              0\n",
      "eeg_sub_id                          0\n",
      "eeg_label_offset_seconds            0\n",
      "spectrogram_id                      0\n",
      "spectrogram_sub_id                  0\n",
      "spectrogram_label_offset_seconds    0\n",
      "label_id                            0\n",
      "patient_id                          0\n",
      "expert_consensus                    0\n",
      "seizure_vote                        0\n",
      "lpd_vote                            0\n",
      "gpd_vote                            0\n",
      "lrda_vote                           0\n",
      "grda_vote                           0\n",
      "other_vote                          0\n",
      "dtype: int64\n"
     ]
    }
   ],
   "source": [
    "# Data preprocessing steps\n",
    "\n",
    "# 1. Handling missing values (if any)\n",
    "print(\"Missing values before preprocessing:\")\n",
    "print(train_data.isnull().sum())"
   ]
  },
  {
   "cell_type": "markdown",
   "id": "4dde09bc",
   "metadata": {
    "papermill": {
     "duration": 0.02289,
     "end_time": "2024-03-20T08:42:32.555297",
     "exception": false,
     "start_time": "2024-03-20T08:42:32.532407",
     "status": "completed"
    },
    "tags": []
   },
   "source": [
    "# Check for duplicated columns\n"
   ]
  },
  {
   "cell_type": "code",
   "execution_count": 8,
   "id": "164f0577",
   "metadata": {
    "execution": {
     "iopub.execute_input": "2024-03-20T08:42:32.599502Z",
     "iopub.status.busy": "2024-03-20T08:42:32.598687Z",
     "iopub.status.idle": "2024-03-20T08:42:32.654672Z",
     "shell.execute_reply": "2024-03-20T08:42:32.653336Z"
    },
    "papermill": {
     "duration": 0.081413,
     "end_time": "2024-03-20T08:42:32.657544",
     "exception": false,
     "start_time": "2024-03-20T08:42:32.576131",
     "status": "completed"
    },
    "tags": []
   },
   "outputs": [
    {
     "data": {
      "text/plain": [
       "0"
      ]
     },
     "execution_count": 8,
     "metadata": {},
     "output_type": "execute_result"
    }
   ],
   "source": [
    "train_data.duplicated().sum()"
   ]
  },
  {
   "cell_type": "markdown",
   "id": "0637965a",
   "metadata": {
    "papermill": {
     "duration": 0.02146,
     "end_time": "2024-03-20T08:42:32.700447",
     "exception": false,
     "start_time": "2024-03-20T08:42:32.678987",
     "status": "completed"
    },
    "tags": []
   },
   "source": [
    "# Visualizing the Data"
   ]
  },
  {
   "cell_type": "code",
   "execution_count": 9,
   "id": "aca4f5c0",
   "metadata": {
    "execution": {
     "iopub.execute_input": "2024-03-20T08:42:32.744745Z",
     "iopub.status.busy": "2024-03-20T08:42:32.744212Z",
     "iopub.status.idle": "2024-03-20T08:42:33.192660Z",
     "shell.execute_reply": "2024-03-20T08:42:33.191328Z"
    },
    "papermill": {
     "duration": 0.473623,
     "end_time": "2024-03-20T08:42:33.195483",
     "exception": false,
     "start_time": "2024-03-20T08:42:32.721860",
     "status": "completed"
    },
    "tags": []
   },
   "outputs": [
    {
     "data": {
      "image/png": "[encoded data removed]",
      "text/plain": [
       "<Figure size 800x600 with 1 Axes>"
      ]
     },
     "metadata": {},
     "output_type": "display_data"
    }
   ],
   "source": [
    "import matplotlib.pyplot as plt\n",
    "import seaborn as sns\n",
    "\n",
    "# Define custom colors for each bar\n",
    "custom_colors = [\"#1f77b4\", \"#ff7f0e\", \"#2ca02c\", \"#d62728\", \"#9467bd\", \"#8c564b\"]\n",
    "\n",
    "# Visualize distribution of target variable\n",
    "plt.figure(figsize=(8, 6))\n",
    "sns.countplot(x='expert_consensus', data=train_data, palette=custom_colors)\n",
    "plt.title('Distribution of Expert Consensus Labels')\n",
    "plt.xlabel('Expert Consensus Labels')\n",
    "plt.ylabel('Count')\n",
    "plt.show()"
   ]
  },
  {
   "cell_type": "markdown",
   "id": "7004f9a9",
   "metadata": {
    "papermill": {
     "duration": 0.02197,
     "end_time": "2024-03-20T08:42:33.238968",
     "exception": false,
     "start_time": "2024-03-20T08:42:33.216998",
     "status": "completed"
    },
    "tags": []
   },
   "source": [
    "# Encode the `expert_consensus` column\n"
   ]
  },
  {
   "cell_type": "code",
   "execution_count": 10,
   "id": "4ad66c00",
   "metadata": {
    "execution": {
     "iopub.execute_input": "2024-03-20T08:42:33.378496Z",
     "iopub.status.busy": "2024-03-20T08:42:33.377915Z",
     "iopub.status.idle": "2024-03-20T08:42:33.417573Z",
     "shell.execute_reply": "2024-03-20T08:42:33.416134Z"
    },
    "papermill": {
     "duration": 0.160456,
     "end_time": "2024-03-20T08:42:33.420825",
     "exception": false,
     "start_time": "2024-03-20T08:42:33.260369",
     "status": "completed"
    },
    "tags": []
   },
   "outputs": [],
   "source": [
    "# Encode the `expert_consensus` column\n",
    "label_encoder = LabelEncoder()\n",
    "train_data['expert_consensus'] = label_encoder.fit_transform(train_data['expert_consensus'])"
   ]
  },
  {
   "cell_type": "code",
   "execution_count": 11,
   "id": "8a326cfb",
   "metadata": {
    "execution": {
     "iopub.execute_input": "2024-03-20T08:42:33.466516Z",
     "iopub.status.busy": "2024-03-20T08:42:33.465533Z",
     "iopub.status.idle": "2024-03-20T08:42:33.485083Z",
     "shell.execute_reply": "2024-03-20T08:42:33.483831Z"
    },
    "papermill": {
     "duration": 0.045765,
     "end_time": "2024-03-20T08:42:33.487804",
     "exception": false,
     "start_time": "2024-03-20T08:42:33.442039",
     "status": "completed"
    },
    "tags": []
   },
   "outputs": [
    {
     "data": {
      "text/html": [
       "<div>\n",
       "<style scoped>\n",
       "    .dataframe tbody tr th:only-of-type {\n",
       "        vertical-align: middle;\n",
       "    }\n",
       "\n",
       "    .dataframe tbody tr th {\n",
       "        vertical-align: top;\n",
       "    }\n",
       "\n",
       "    .dataframe thead th {\n",
       "        text-align: right;\n",
       "    }\n",
       "</style>\n",
       "<table border=\"1\" class=\"dataframe\">\n",
       "  <thead>\n",
       "    <tr style=\"text-align: right;\">\n",
       "      <th></th>\n",
       "      <th>eeg_id</th>\n",
       "      <th>eeg_sub_id</th>\n",
       "      <th>eeg_label_offset_seconds</th>\n",
       "      <th>spectrogram_id</th>\n",
       "      <th>spectrogram_sub_id</th>\n",
       "      <th>spectrogram_label_offset_seconds</th>\n",
       "      <th>label_id</th>\n",
       "      <th>patient_id</th>\n",
       "      <th>expert_consensus</th>\n",
       "      <th>seizure_vote</th>\n",
       "      <th>lpd_vote</th>\n",
       "      <th>gpd_vote</th>\n",
       "      <th>lrda_vote</th>\n",
       "      <th>grda_vote</th>\n",
       "      <th>other_vote</th>\n",
       "    </tr>\n",
       "  </thead>\n",
       "  <tbody>\n",
       "    <tr>\n",
       "      <th>0</th>\n",
       "      <td>1628180742</td>\n",
       "      <td>0</td>\n",
       "      <td>0.0</td>\n",
       "      <td>353733</td>\n",
       "      <td>0</td>\n",
       "      <td>0.0</td>\n",
       "      <td>127492639</td>\n",
       "      <td>42516</td>\n",
       "      <td>5</td>\n",
       "      <td>3</td>\n",
       "      <td>0</td>\n",
       "      <td>0</td>\n",
       "      <td>0</td>\n",
       "      <td>0</td>\n",
       "      <td>0</td>\n",
       "    </tr>\n",
       "    <tr>\n",
       "      <th>1</th>\n",
       "      <td>1628180742</td>\n",
       "      <td>1</td>\n",
       "      <td>6.0</td>\n",
       "      <td>353733</td>\n",
       "      <td>1</td>\n",
       "      <td>6.0</td>\n",
       "      <td>3887563113</td>\n",
       "      <td>42516</td>\n",
       "      <td>5</td>\n",
       "      <td>3</td>\n",
       "      <td>0</td>\n",
       "      <td>0</td>\n",
       "      <td>0</td>\n",
       "      <td>0</td>\n",
       "      <td>0</td>\n",
       "    </tr>\n",
       "    <tr>\n",
       "      <th>2</th>\n",
       "      <td>1628180742</td>\n",
       "      <td>2</td>\n",
       "      <td>8.0</td>\n",
       "      <td>353733</td>\n",
       "      <td>2</td>\n",
       "      <td>8.0</td>\n",
       "      <td>1142670488</td>\n",
       "      <td>42516</td>\n",
       "      <td>5</td>\n",
       "      <td>3</td>\n",
       "      <td>0</td>\n",
       "      <td>0</td>\n",
       "      <td>0</td>\n",
       "      <td>0</td>\n",
       "      <td>0</td>\n",
       "    </tr>\n",
       "    <tr>\n",
       "      <th>3</th>\n",
       "      <td>1628180742</td>\n",
       "      <td>3</td>\n",
       "      <td>18.0</td>\n",
       "      <td>353733</td>\n",
       "      <td>3</td>\n",
       "      <td>18.0</td>\n",
       "      <td>2718991173</td>\n",
       "      <td>42516</td>\n",
       "      <td>5</td>\n",
       "      <td>3</td>\n",
       "      <td>0</td>\n",
       "      <td>0</td>\n",
       "      <td>0</td>\n",
       "      <td>0</td>\n",
       "      <td>0</td>\n",
       "    </tr>\n",
       "    <tr>\n",
       "      <th>4</th>\n",
       "      <td>1628180742</td>\n",
       "      <td>4</td>\n",
       "      <td>24.0</td>\n",
       "      <td>353733</td>\n",
       "      <td>4</td>\n",
       "      <td>24.0</td>\n",
       "      <td>3080632009</td>\n",
       "      <td>42516</td>\n",
       "      <td>5</td>\n",
       "      <td>3</td>\n",
       "      <td>0</td>\n",
       "      <td>0</td>\n",
       "      <td>0</td>\n",
       "      <td>0</td>\n",
       "      <td>0</td>\n",
       "    </tr>\n",
       "  </tbody>\n",
       "</table>\n",
       "</div>"
      ],
      "text/plain": [
       "       eeg_id  eeg_sub_id  eeg_label_offset_seconds  spectrogram_id  \\\n",
       "0  1628180742           0                       0.0          353733   \n",
       "1  1628180742           1                       6.0          353733   \n",
       "2  1628180742           2                       8.0          353733   \n",
       "3  1628180742           3                      18.0          353733   \n",
       "4  1628180742           4                      24.0          353733   \n",
       "\n",
       "   spectrogram_sub_id  spectrogram_label_offset_seconds    label_id  \\\n",
       "0                   0                               0.0   127492639   \n",
       "1                   1                               6.0  3887563113   \n",
       "2                   2                               8.0  1142670488   \n",
       "3                   3                              18.0  2718991173   \n",
       "4                   4                              24.0  3080632009   \n",
       "\n",
       "   patient_id  expert_consensus  seizure_vote  lpd_vote  gpd_vote  lrda_vote  \\\n",
       "0       42516                 5             3         0         0          0   \n",
       "1       42516                 5             3         0         0          0   \n",
       "2       42516                 5             3         0         0          0   \n",
       "3       42516                 5             3         0         0          0   \n",
       "4       42516                 5             3         0         0          0   \n",
       "\n",
       "   grda_vote  other_vote  \n",
       "0          0           0  \n",
       "1          0           0  \n",
       "2          0           0  \n",
       "3          0           0  \n",
       "4          0           0  "
      ]
     },
     "execution_count": 11,
     "metadata": {},
     "output_type": "execute_result"
    }
   ],
   "source": [
    "train_data.head()"
   ]
  },
  {
   "cell_type": "markdown",
   "id": "daad78e9",
   "metadata": {
    "papermill": {
     "duration": 0.021543,
     "end_time": "2024-03-20T08:42:33.531642",
     "exception": false,
     "start_time": "2024-03-20T08:42:33.510099",
     "status": "completed"
    },
    "tags": []
   },
   "source": [
    "# Creating   RandomForestClassifier and Decision Tree Models and comparing them\n"
   ]
  },
  {
   "cell_type": "code",
   "execution_count": 12,
   "id": "5ee86984",
   "metadata": {
    "execution": {
     "iopub.execute_input": "2024-03-20T08:42:33.579768Z",
     "iopub.status.busy": "2024-03-20T08:42:33.579299Z",
     "iopub.status.idle": "2024-03-20T08:42:33.585236Z",
     "shell.execute_reply": "2024-03-20T08:42:33.583952Z"
    },
    "papermill": {
     "duration": 0.032185,
     "end_time": "2024-03-20T08:42:33.587828",
     "exception": false,
     "start_time": "2024-03-20T08:42:33.555643",
     "status": "completed"
    },
    "tags": []
   },
   "outputs": [],
   "source": [
    "import pandas as pd\n",
    "from sklearn.model_selection import train_test_split\n",
    "from sklearn.preprocessing import StandardScaler"
   ]
  },
  {
   "cell_type": "markdown",
   "id": "54164046",
   "metadata": {
    "papermill": {
     "duration": 0.022667,
     "end_time": "2024-03-20T08:42:33.633393",
     "exception": false,
     "start_time": "2024-03-20T08:42:33.610726",
     "status": "completed"
    },
    "tags": []
   },
   "source": [
    "# Load the dataset\n"
   ]
  },
  {
   "cell_type": "code",
   "execution_count": 13,
   "id": "c728eabe",
   "metadata": {
    "execution": {
     "iopub.execute_input": "2024-03-20T08:42:33.684073Z",
     "iopub.status.busy": "2024-03-20T08:42:33.683600Z",
     "iopub.status.idle": "2024-03-20T08:42:33.926892Z",
     "shell.execute_reply": "2024-03-20T08:42:33.925703Z"
    },
    "papermill": {
     "duration": 0.27454,
     "end_time": "2024-03-20T08:42:33.929985",
     "exception": false,
     "start_time": "2024-03-20T08:42:33.655445",
     "status": "completed"
    },
    "tags": []
   },
   "outputs": [],
   "source": [
    "train_data = pd.read_csv('/kaggle/input/hms-harmful-brain-activity-classification/train.csv')"
   ]
  },
  {
   "cell_type": "code",
   "execution_count": 14,
   "id": "508e122e",
   "metadata": {
    "execution": {
     "iopub.execute_input": "2024-03-20T08:42:33.977215Z",
     "iopub.status.busy": "2024-03-20T08:42:33.976722Z",
     "iopub.status.idle": "2024-03-20T08:42:33.986614Z",
     "shell.execute_reply": "2024-03-20T08:42:33.985304Z"
    },
    "papermill": {
     "duration": 0.03691,
     "end_time": "2024-03-20T08:42:33.989442",
     "exception": false,
     "start_time": "2024-03-20T08:42:33.952532",
     "status": "completed"
    },
    "tags": []
   },
   "outputs": [],
   "source": [
    "X = train_data[['eeg_label_offset_seconds', 'spectrogram_label_offset_seconds', 'patient_id']]\n",
    "y = train_data['expert_consensus']"
   ]
  },
  {
   "cell_type": "markdown",
   "id": "8938c908",
   "metadata": {
    "papermill": {
     "duration": 0.021437,
     "end_time": "2024-03-20T08:42:34.032722",
     "exception": false,
     "start_time": "2024-03-20T08:42:34.011285",
     "status": "completed"
    },
    "tags": []
   },
   "source": [
    "# Split the dataset into training and testing sets\n"
   ]
  },
  {
   "cell_type": "code",
   "execution_count": 15,
   "id": "ff18e666",
   "metadata": {
    "execution": {
     "iopub.execute_input": "2024-03-20T08:42:34.082737Z",
     "iopub.status.busy": "2024-03-20T08:42:34.081990Z",
     "iopub.status.idle": "2024-03-20T08:42:34.113837Z",
     "shell.execute_reply": "2024-03-20T08:42:34.112377Z"
    },
    "papermill": {
     "duration": 0.063253,
     "end_time": "2024-03-20T08:42:34.117805",
     "exception": false,
     "start_time": "2024-03-20T08:42:34.054552",
     "status": "completed"
    },
    "tags": []
   },
   "outputs": [],
   "source": [
    "X_train, X_test, y_train, y_test = train_test_split(X, y, test_size=0.2, random_state=42)"
   ]
  },
  {
   "cell_type": "markdown",
   "id": "d8184c31",
   "metadata": {
    "papermill": {
     "duration": 0.023115,
     "end_time": "2024-03-20T08:42:34.166728",
     "exception": false,
     "start_time": "2024-03-20T08:42:34.143613",
     "status": "completed"
    },
    "tags": []
   },
   "source": [
    "# 2. Scaling numerical features\n"
   ]
  },
  {
   "cell_type": "code",
   "execution_count": 16,
   "id": "98427e17",
   "metadata": {
    "execution": {
     "iopub.execute_input": "2024-03-20T08:42:34.228825Z",
     "iopub.status.busy": "2024-03-20T08:42:34.228159Z",
     "iopub.status.idle": "2024-03-20T08:42:34.247112Z",
     "shell.execute_reply": "2024-03-20T08:42:34.245987Z"
    },
    "papermill": {
     "duration": 0.055302,
     "end_time": "2024-03-20T08:42:34.250534",
     "exception": false,
     "start_time": "2024-03-20T08:42:34.195232",
     "status": "completed"
    },
    "tags": []
   },
   "outputs": [],
   "source": [
    "scaler = StandardScaler()\n",
    "X_train_scaled = scaler.fit_transform(X_train)\n",
    "X_test_scaled = scaler.transform(X_test)"
   ]
  },
  {
   "cell_type": "code",
   "execution_count": 17,
   "id": "1cc0abf7",
   "metadata": {
    "execution": {
     "iopub.execute_input": "2024-03-20T08:42:34.300664Z",
     "iopub.status.busy": "2024-03-20T08:42:34.300107Z",
     "iopub.status.idle": "2024-03-20T08:42:34.706080Z",
     "shell.execute_reply": "2024-03-20T08:42:34.704726Z"
    },
    "papermill": {
     "duration": 0.434656,
     "end_time": "2024-03-20T08:42:34.709269",
     "exception": false,
     "start_time": "2024-03-20T08:42:34.274613",
     "status": "completed"
    },
    "tags": []
   },
   "outputs": [],
   "source": [
    "X_train_encoded = pd.get_dummies(X_train, columns=['patient_id'])\n",
    "X_test_encoded = pd.get_dummies(X_test, columns=['patient_id'])"
   ]
  },
  {
   "cell_type": "markdown",
   "id": "b2d615e0",
   "metadata": {
    "papermill": {
     "duration": 0.022589,
     "end_time": "2024-03-20T08:42:34.755629",
     "exception": false,
     "start_time": "2024-03-20T08:42:34.733040",
     "status": "completed"
    },
    "tags": []
   },
   "source": [
    "# KNeighborsClassifier()"
   ]
  },
  {
   "cell_type": "code",
   "execution_count": 18,
   "id": "3ccb0738",
   "metadata": {
    "execution": {
     "iopub.execute_input": "2024-03-20T08:42:34.804135Z",
     "iopub.status.busy": "2024-03-20T08:42:34.802919Z",
     "iopub.status.idle": "2024-03-20T08:42:37.325119Z",
     "shell.execute_reply": "2024-03-20T08:42:37.323543Z"
    },
    "papermill": {
     "duration": 2.550169,
     "end_time": "2024-03-20T08:42:37.328506",
     "exception": false,
     "start_time": "2024-03-20T08:42:34.778337",
     "status": "completed"
    },
    "tags": []
   },
   "outputs": [
    {
     "data": {
      "image/png": "[encoded data removed]",
      "text/plain": [
       "<Figure size 800x600 with 2 Axes>"
      ]
     },
     "metadata": {},
     "output_type": "display_data"
    }
   ],
   "source": [
    "from sklearn.neighbors import KNeighborsClassifier\n",
    "from sklearn.metrics import confusion_matrix\n",
    "import seaborn as sns\n",
    "import matplotlib.pyplot as plt\n",
    "\n",
    "# Assuming you have initialized and trained your KNeighborsClassifier\n",
    "knn = KNeighborsClassifier()\n",
    "knn.fit(X_train, y_train)  # Make sure you have fitted your classifier\n",
    "\n",
    "# Make predictions\n",
    "predictions = knn.predict(X_test)\n",
    "\n",
    "# Calculate confusion matrix\n",
    "cm = confusion_matrix(y_test, predictions)\n",
    "\n",
    "# Visualize confusion matrix\n",
    "plt.figure(figsize=(8, 6))\n",
    "sns.heatmap(cm, annot=True, cmap='Blues', fmt='g', \n",
    "            xticklabels=knn.classes_, yticklabels=knn.classes_)\n",
    "plt.title('Confusion Matrix')\n",
    "plt.xlabel('Predicted Labels')\n",
    "plt.ylabel('True Labels')\n",
    "plt.show()"
   ]
  },
  {
   "cell_type": "markdown",
   "id": "0c1a2f72",
   "metadata": {
    "papermill": {
     "duration": 0.023732,
     "end_time": "2024-03-20T08:42:37.377548",
     "exception": false,
     "start_time": "2024-03-20T08:42:37.353816",
     "status": "completed"
    },
    "tags": []
   },
   "source": [
    "# Creating a model with Decision-Tree Algorithm"
   ]
  },
  {
   "cell_type": "code",
   "execution_count": 19,
   "id": "8a7153fe",
   "metadata": {
    "execution": {
     "iopub.execute_input": "2024-03-20T08:42:37.426692Z",
     "iopub.status.busy": "2024-03-20T08:42:37.426172Z",
     "iopub.status.idle": "2024-03-20T08:42:37.433191Z",
     "shell.execute_reply": "2024-03-20T08:42:37.431751Z"
    },
    "papermill": {
     "duration": 0.035189,
     "end_time": "2024-03-20T08:42:37.436123",
     "exception": false,
     "start_time": "2024-03-20T08:42:37.400934",
     "status": "completed"
    },
    "tags": []
   },
   "outputs": [],
   "source": [
    "import pandas as pd\n",
    "from sklearn.tree import DecisionTreeClassifier\n",
    "from sklearn.model_selection import train_test_split\n",
    "from sklearn.metrics import accuracy_score"
   ]
  },
  {
   "cell_type": "code",
   "execution_count": 20,
   "id": "91755a82",
   "metadata": {
    "execution": {
     "iopub.execute_input": "2024-03-20T08:42:37.486069Z",
     "iopub.status.busy": "2024-03-20T08:42:37.485609Z",
     "iopub.status.idle": "2024-03-20T08:42:37.729987Z",
     "shell.execute_reply": "2024-03-20T08:42:37.728526Z"
    },
    "papermill": {
     "duration": 0.273607,
     "end_time": "2024-03-20T08:42:37.733273",
     "exception": false,
     "start_time": "2024-03-20T08:42:37.459666",
     "status": "completed"
    },
    "tags": []
   },
   "outputs": [],
   "source": [
    "# Load the dataset\n",
    "train_data = pd.read_csv('/kaggle/input/hms-harmful-brain-activity-classification/train.csv')"
   ]
  },
  {
   "cell_type": "code",
   "execution_count": 21,
   "id": "92ea85a8",
   "metadata": {
    "execution": {
     "iopub.execute_input": "2024-03-20T08:42:37.781831Z",
     "iopub.status.busy": "2024-03-20T08:42:37.781325Z",
     "iopub.status.idle": "2024-03-20T08:42:37.790578Z",
     "shell.execute_reply": "2024-03-20T08:42:37.789284Z"
    },
    "papermill": {
     "duration": 0.036993,
     "end_time": "2024-03-20T08:42:37.793451",
     "exception": false,
     "start_time": "2024-03-20T08:42:37.756458",
     "status": "completed"
    },
    "tags": []
   },
   "outputs": [],
   "source": [
    "# Select features and target variable\n",
    "X = train_data[['eeg_label_offset_seconds', 'spectrogram_label_offset_seconds', 'lpd_vote', 'gpd_vote', 'lrda_vote', 'grda_vote']]\n",
    "y = train_data['expert_consensus']"
   ]
  },
  {
   "cell_type": "code",
   "execution_count": 22,
   "id": "48abce34",
   "metadata": {
    "execution": {
     "iopub.execute_input": "2024-03-20T08:42:37.842224Z",
     "iopub.status.busy": "2024-03-20T08:42:37.841756Z",
     "iopub.status.idle": "2024-03-20T08:42:37.864978Z",
     "shell.execute_reply": "2024-03-20T08:42:37.863761Z"
    },
    "papermill": {
     "duration": 0.050985,
     "end_time": "2024-03-20T08:42:37.868101",
     "exception": false,
     "start_time": "2024-03-20T08:42:37.817116",
     "status": "completed"
    },
    "tags": []
   },
   "outputs": [],
   "source": [
    "# Split the dataset into training and testing sets\n",
    "X_train, X_test, y_train, y_test = train_test_split(X, y, test_size=0.2, random_state=42)"
   ]
  },
  {
   "cell_type": "code",
   "execution_count": 23,
   "id": "4a4a2b80",
   "metadata": {
    "execution": {
     "iopub.execute_input": "2024-03-20T08:42:37.916104Z",
     "iopub.status.busy": "2024-03-20T08:42:37.915650Z",
     "iopub.status.idle": "2024-03-20T08:42:37.921432Z",
     "shell.execute_reply": "2024-03-20T08:42:37.920126Z"
    },
    "papermill": {
     "duration": 0.0329,
     "end_time": "2024-03-20T08:42:37.923829",
     "exception": false,
     "start_time": "2024-03-20T08:42:37.890929",
     "status": "completed"
    },
    "tags": []
   },
   "outputs": [],
   "source": [
    "# Create the decision tree classifier\n",
    "dt_classifier = DecisionTreeClassifier()"
   ]
  },
  {
   "cell_type": "code",
   "execution_count": 24,
   "id": "c3f8e527",
   "metadata": {
    "execution": {
     "iopub.execute_input": "2024-03-20T08:42:37.971999Z",
     "iopub.status.busy": "2024-03-20T08:42:37.971074Z",
     "iopub.status.idle": "2024-03-20T08:42:38.494425Z",
     "shell.execute_reply": "2024-03-20T08:42:38.493330Z"
    },
    "papermill": {
     "duration": 0.551053,
     "end_time": "2024-03-20T08:42:38.497851",
     "exception": false,
     "start_time": "2024-03-20T08:42:37.946798",
     "status": "completed"
    },
    "tags": []
   },
   "outputs": [
    {
     "data": {
      "text/html": [
       "<style>#sk-container-id-1 {color: black;background-color: white;}#sk-container-id-1 pre{padding: 0;}#sk-container-id-1 div.sk-toggleable {background-color: white;}#sk-container-id-1 label.sk-toggleable__label {cursor: pointer;display: block;width: 100%;margin-bottom: 0;padding: 0.3em;box-sizing: border-box;text-align: center;}#sk-container-id-1 label.sk-toggleable__label-arrow:before {content: \"▸\";float: left;margin-right: 0.25em;color: #696969;}#sk-container-id-1 label.sk-toggleable__label-arrow:hover:before {color: black;}#sk-container-id-1 div.sk-estimator:hover label.sk-toggleable__label-arrow:before {color: black;}#sk-container-id-1 div.sk-toggleable__content {max-height: 0;max-width: 0;overflow: hidden;text-align: left;background-color: #f0f8ff;}#sk-container-id-1 div.sk-toggleable__content pre {margin: 0.2em;color: black;border-radius: 0.25em;background-color: #f0f8ff;}#sk-container-id-1 input.sk-toggleable__control:checked~div.sk-toggleable__content {max-height: 200px;max-width: 100%;overflow: auto;}#sk-container-id-1 input.sk-toggleable__control:checked~label.sk-toggleable__label-arrow:before {content: \"▾\";}#sk-container-id-1 div.sk-estimator input.sk-toggleable__control:checked~label.sk-toggleable__label {background-color: #d4ebff;}#sk-container-id-1 div.sk-label input.sk-toggleable__control:checked~label.sk-toggleable__label {background-color: #d4ebff;}#sk-container-id-1 input.sk-hidden--visually {border: 0;clip: rect(1px 1px 1px 1px);clip: rect(1px, 1px, 1px, 1px);height: 1px;margin: -1px;overflow: hidden;padding: 0;position: absolute;width: 1px;}#sk-container-id-1 div.sk-estimator {font-family: monospace;background-color: #f0f8ff;border: 1px dotted black;border-radius: 0.25em;box-sizing: border-box;margin-bottom: 0.5em;}#sk-container-id-1 div.sk-estimator:hover {background-color: #d4ebff;}#sk-container-id-1 div.sk-parallel-item::after {content: \"\";width: 100%;border-bottom: 1px solid gray;flex-grow: 1;}#sk-container-id-1 div.sk-label:hover label.sk-toggleable__label {background-color: #d4ebff;}#sk-container-id-1 div.sk-serial::before {content: \"\";position: absolute;border-left: 1px solid gray;box-sizing: border-box;top: 0;bottom: 0;left: 50%;z-index: 0;}#sk-container-id-1 div.sk-serial {display: flex;flex-direction: column;align-items: center;background-color: white;padding-right: 0.2em;padding-left: 0.2em;position: relative;}#sk-container-id-1 div.sk-item {position: relative;z-index: 1;}#sk-container-id-1 div.sk-parallel {display: flex;align-items: stretch;justify-content: center;background-color: white;position: relative;}#sk-container-id-1 div.sk-item::before, #sk-container-id-1 div.sk-parallel-item::before {content: \"\";position: absolute;border-left: 1px solid gray;box-sizing: border-box;top: 0;bottom: 0;left: 50%;z-index: -1;}#sk-container-id-1 div.sk-parallel-item {display: flex;flex-direction: column;z-index: 1;position: relative;background-color: white;}#sk-container-id-1 div.sk-parallel-item:first-child::after {align-self: flex-end;width: 50%;}#sk-container-id-1 div.sk-parallel-item:last-child::after {align-self: flex-start;width: 50%;}#sk-container-id-1 div.sk-parallel-item:only-child::after {width: 0;}#sk-container-id-1 div.sk-dashed-wrapped {border: 1px dashed gray;margin: 0 0.4em 0.5em 0.4em;box-sizing: border-box;padding-bottom: 0.4em;background-color: white;}#sk-container-id-1 div.sk-label label {font-family: monospace;font-weight: bold;display: inline-block;line-height: 1.2em;}#sk-container-id-1 div.sk-label-container {text-align: center;}#sk-container-id-1 div.sk-container {/* jupyter's `normalize.less` sets `[hidden] { display: none; }` but bootstrap.min.css set `[hidden] { display: none !important; }` so we also need the `!important` here to be able to override the default hidden behavior on the sphinx rendered scikit-learn.org. See: https://github.com/scikit-learn/scikit-learn/issues/21755 */display: inline-block !important;position: relative;}#sk-container-id-1 div.sk-text-repr-fallback {display: none;}</style><div id=\"sk-container-id-1\" class=\"sk-top-container\"><div class=\"sk-text-repr-fallback\"><pre>DecisionTreeClassifier()</pre><b>In a Jupyter environment, please rerun this cell to show the HTML representation or trust the notebook. <br />On GitHub, the HTML representation is unable to render, please try loading this page with nbviewer.org.</b></div><div class=\"sk-container\" hidden><div class=\"sk-item\"><div class=\"sk-estimator sk-toggleable\"><input class=\"sk-toggleable__control sk-hidden--visually\" id=\"sk-estimator-id-1\" type=\"checkbox\" checked><label for=\"sk-estimator-id-1\" class=\"sk-toggleable__label sk-toggleable__label-arrow\">DecisionTreeClassifier</label><div class=\"sk-toggleable__content\"><pre>DecisionTreeClassifier()</pre></div></div></div></div></div>"
      ],
      "text/plain": [
       "DecisionTreeClassifier()"
      ]
     },
     "execution_count": 24,
     "metadata": {},
     "output_type": "execute_result"
    }
   ],
   "source": [
    "# Train the classifier on the training data\n",
    "dt_classifier.fit(X_train, y_train)"
   ]
  },
  {
   "cell_type": "code",
   "execution_count": 25,
   "id": "74dd2776",
   "metadata": {
    "execution": {
     "iopub.execute_input": "2024-03-20T08:42:38.547881Z",
     "iopub.status.busy": "2024-03-20T08:42:38.547396Z",
     "iopub.status.idle": "2024-03-20T08:42:38.612414Z",
     "shell.execute_reply": "2024-03-20T08:42:38.610282Z"
    },
    "papermill": {
     "duration": 0.09414,
     "end_time": "2024-03-20T08:42:38.615452",
     "exception": false,
     "start_time": "2024-03-20T08:42:38.521312",
     "status": "completed"
    },
    "tags": []
   },
   "outputs": [
    {
     "name": "stdout",
     "output_type": "stream",
     "text": [
      "Accuracy: 0.8771067415730337\n"
     ]
    }
   ],
   "source": [
    "# Evaluate the performance of the trained model on the testing data\n",
    "predictions = dt_classifier.predict(X_test)\n",
    "\n",
    "accuracy = accuracy_score(y_test, predictions)\n",
    "print(\"Accuracy:\", accuracy)"
   ]
  },
  {
   "cell_type": "markdown",
   "id": "4b8bfdbe",
   "metadata": {
    "papermill": {
     "duration": 0.023999,
     "end_time": "2024-03-20T08:42:38.667406",
     "exception": false,
     "start_time": "2024-03-20T08:42:38.643407",
     "status": "completed"
    },
    "tags": []
   },
   "source": [
    "# RandomForestClassifier"
   ]
  },
  {
   "cell_type": "code",
   "execution_count": 26,
   "id": "e3a1f941",
   "metadata": {
    "execution": {
     "iopub.execute_input": "2024-03-20T08:42:38.717895Z",
     "iopub.status.busy": "2024-03-20T08:42:38.717385Z",
     "iopub.status.idle": "2024-03-20T08:42:38.731734Z",
     "shell.execute_reply": "2024-03-20T08:42:38.730051Z"
    },
    "papermill": {
     "duration": 0.043912,
     "end_time": "2024-03-20T08:42:38.735204",
     "exception": false,
     "start_time": "2024-03-20T08:42:38.691292",
     "status": "completed"
    },
    "tags": []
   },
   "outputs": [],
   "source": [
    "import os\n",
    "import tqdm\n",
    "import pandas as pd\n",
    "import numpy as np\n",
    "from sklearn.ensemble import RandomForestClassifier"
   ]
  },
  {
   "cell_type": "code",
   "execution_count": 27,
   "id": "7f7e9b04",
   "metadata": {
    "execution": {
     "iopub.execute_input": "2024-03-20T08:42:38.785559Z",
     "iopub.status.busy": "2024-03-20T08:42:38.785034Z",
     "iopub.status.idle": "2024-03-20T08:42:38.791960Z",
     "shell.execute_reply": "2024-03-20T08:42:38.790516Z"
    },
    "papermill": {
     "duration": 0.036416,
     "end_time": "2024-03-20T08:42:38.796064",
     "exception": false,
     "start_time": "2024-03-20T08:42:38.759648",
     "status": "completed"
    },
    "tags": []
   },
   "outputs": [],
   "source": [
    "# parent directory\n",
    "PDIR = '/kaggle/input/hms-harmful-brain-activity-classification'"
   ]
  },
  {
   "cell_type": "code",
   "execution_count": 28,
   "id": "4365ebd3",
   "metadata": {
    "execution": {
     "iopub.execute_input": "2024-03-20T08:42:38.852162Z",
     "iopub.status.busy": "2024-03-20T08:42:38.851089Z",
     "iopub.status.idle": "2024-03-20T08:42:39.335375Z",
     "shell.execute_reply": "2024-03-20T08:42:39.334120Z"
    },
    "papermill": {
     "duration": 0.516341,
     "end_time": "2024-03-20T08:42:39.338583",
     "exception": false,
     "start_time": "2024-03-20T08:42:38.822242",
     "status": "completed"
    },
    "tags": []
   },
   "outputs": [
    {
     "data": {
      "text/html": [
       "<div>\n",
       "<style scoped>\n",
       "    .dataframe tbody tr th:only-of-type {\n",
       "        vertical-align: middle;\n",
       "    }\n",
       "\n",
       "    .dataframe tbody tr th {\n",
       "        vertical-align: top;\n",
       "    }\n",
       "\n",
       "    .dataframe thead th {\n",
       "        text-align: right;\n",
       "    }\n",
       "</style>\n",
       "<table border=\"1\" class=\"dataframe\">\n",
       "  <thead>\n",
       "    <tr style=\"text-align: right;\">\n",
       "      <th></th>\n",
       "      <th>eeg_id</th>\n",
       "      <th>eeg_sub_id</th>\n",
       "      <th>eeg_label_offset_seconds</th>\n",
       "      <th>spectrogram_id</th>\n",
       "      <th>spectrogram_sub_id</th>\n",
       "      <th>spectrogram_label_offset_seconds</th>\n",
       "      <th>label_id</th>\n",
       "      <th>patient_id</th>\n",
       "      <th>expert_consensus</th>\n",
       "      <th>seizure_vote</th>\n",
       "      <th>lpd_vote</th>\n",
       "      <th>gpd_vote</th>\n",
       "      <th>lrda_vote</th>\n",
       "      <th>grda_vote</th>\n",
       "      <th>other_vote</th>\n",
       "    </tr>\n",
       "  </thead>\n",
       "  <tbody>\n",
       "    <tr>\n",
       "      <th>0</th>\n",
       "      <td>1628180742</td>\n",
       "      <td>0</td>\n",
       "      <td>0.0</td>\n",
       "      <td>353733</td>\n",
       "      <td>0</td>\n",
       "      <td>0.0</td>\n",
       "      <td>127492639</td>\n",
       "      <td>42516</td>\n",
       "      <td>Seizure</td>\n",
       "      <td>3</td>\n",
       "      <td>0</td>\n",
       "      <td>0</td>\n",
       "      <td>0</td>\n",
       "      <td>0</td>\n",
       "      <td>0</td>\n",
       "    </tr>\n",
       "    <tr>\n",
       "      <th>1</th>\n",
       "      <td>1628180742</td>\n",
       "      <td>1</td>\n",
       "      <td>6.0</td>\n",
       "      <td>353733</td>\n",
       "      <td>1</td>\n",
       "      <td>6.0</td>\n",
       "      <td>3887563113</td>\n",
       "      <td>42516</td>\n",
       "      <td>Seizure</td>\n",
       "      <td>3</td>\n",
       "      <td>0</td>\n",
       "      <td>0</td>\n",
       "      <td>0</td>\n",
       "      <td>0</td>\n",
       "      <td>0</td>\n",
       "    </tr>\n",
       "    <tr>\n",
       "      <th>2</th>\n",
       "      <td>1628180742</td>\n",
       "      <td>2</td>\n",
       "      <td>8.0</td>\n",
       "      <td>353733</td>\n",
       "      <td>2</td>\n",
       "      <td>8.0</td>\n",
       "      <td>1142670488</td>\n",
       "      <td>42516</td>\n",
       "      <td>Seizure</td>\n",
       "      <td>3</td>\n",
       "      <td>0</td>\n",
       "      <td>0</td>\n",
       "      <td>0</td>\n",
       "      <td>0</td>\n",
       "      <td>0</td>\n",
       "    </tr>\n",
       "    <tr>\n",
       "      <th>3</th>\n",
       "      <td>1628180742</td>\n",
       "      <td>3</td>\n",
       "      <td>18.0</td>\n",
       "      <td>353733</td>\n",
       "      <td>3</td>\n",
       "      <td>18.0</td>\n",
       "      <td>2718991173</td>\n",
       "      <td>42516</td>\n",
       "      <td>Seizure</td>\n",
       "      <td>3</td>\n",
       "      <td>0</td>\n",
       "      <td>0</td>\n",
       "      <td>0</td>\n",
       "      <td>0</td>\n",
       "      <td>0</td>\n",
       "    </tr>\n",
       "    <tr>\n",
       "      <th>4</th>\n",
       "      <td>1628180742</td>\n",
       "      <td>4</td>\n",
       "      <td>24.0</td>\n",
       "      <td>353733</td>\n",
       "      <td>4</td>\n",
       "      <td>24.0</td>\n",
       "      <td>3080632009</td>\n",
       "      <td>42516</td>\n",
       "      <td>Seizure</td>\n",
       "      <td>3</td>\n",
       "      <td>0</td>\n",
       "      <td>0</td>\n",
       "      <td>0</td>\n",
       "      <td>0</td>\n",
       "      <td>0</td>\n",
       "    </tr>\n",
       "  </tbody>\n",
       "</table>\n",
       "</div>"
      ],
      "text/plain": [
       "       eeg_id  eeg_sub_id  eeg_label_offset_seconds  spectrogram_id  \\\n",
       "0  1628180742           0                       0.0          353733   \n",
       "1  1628180742           1                       6.0          353733   \n",
       "2  1628180742           2                       8.0          353733   \n",
       "3  1628180742           3                      18.0          353733   \n",
       "4  1628180742           4                      24.0          353733   \n",
       "\n",
       "   spectrogram_sub_id  spectrogram_label_offset_seconds    label_id  \\\n",
       "0                   0                               0.0   127492639   \n",
       "1                   1                               6.0  3887563113   \n",
       "2                   2                               8.0  1142670488   \n",
       "3                   3                              18.0  2718991173   \n",
       "4                   4                              24.0  3080632009   \n",
       "\n",
       "   patient_id expert_consensus  seizure_vote  lpd_vote  gpd_vote  lrda_vote  \\\n",
       "0       42516          Seizure             3         0         0          0   \n",
       "1       42516          Seizure             3         0         0          0   \n",
       "2       42516          Seizure             3         0         0          0   \n",
       "3       42516          Seizure             3         0         0          0   \n",
       "4       42516          Seizure             3         0         0          0   \n",
       "\n",
       "   grda_vote  other_vote  \n",
       "0          0           0  \n",
       "1          0           0  \n",
       "2          0           0  \n",
       "3          0           0  \n",
       "4          0           0  "
      ]
     },
     "metadata": {},
     "output_type": "display_data"
    }
   ],
   "source": [
    "# Reading the CSV file 'train.csv' located in the directory specified by PDIR\n",
    "df = pd.read_csv(os.path.join(PDIR, 'train.csv'))\n",
    "# Load the dataset\n",
    "train_data = pd.read_csv('/kaggle/input/hms-harmful-brain-activity-classification/train.csv')\n",
    "\n",
    "# Displaying the first few rows of the DataFrame\n",
    "display(df.head())"
   ]
  },
  {
   "cell_type": "code",
   "execution_count": 29,
   "id": "c0bfdb5a",
   "metadata": {
    "execution": {
     "iopub.execute_input": "2024-03-20T08:42:39.390687Z",
     "iopub.status.busy": "2024-03-20T08:42:39.390145Z",
     "iopub.status.idle": "2024-03-20T08:42:39.399876Z",
     "shell.execute_reply": "2024-03-20T08:42:39.398706Z"
    },
    "papermill": {
     "duration": 0.038297,
     "end_time": "2024-03-20T08:42:39.402733",
     "exception": false,
     "start_time": "2024-03-20T08:42:39.364436",
     "status": "completed"
    },
    "tags": []
   },
   "outputs": [],
   "source": [
    "# Select features and target variable\n",
    "X = train_data[['eeg_label_offset_seconds', 'spectrogram_label_offset_seconds', 'lpd_vote', 'gpd_vote', 'lrda_vote', 'grda_vote']]\n",
    "y = train_data['expert_consensus']"
   ]
  },
  {
   "cell_type": "code",
   "execution_count": 30,
   "id": "aa4ce339",
   "metadata": {
    "execution": {
     "iopub.execute_input": "2024-03-20T08:42:39.454418Z",
     "iopub.status.busy": "2024-03-20T08:42:39.452507Z",
     "iopub.status.idle": "2024-03-20T08:42:39.480598Z",
     "shell.execute_reply": "2024-03-20T08:42:39.479145Z"
    },
    "papermill": {
     "duration": 0.057507,
     "end_time": "2024-03-20T08:42:39.484106",
     "exception": false,
     "start_time": "2024-03-20T08:42:39.426599",
     "status": "completed"
    },
    "tags": []
   },
   "outputs": [],
   "source": [
    "# Split the dataset into training and testing sets\n",
    "X_train, X_test, y_train, y_test = train_test_split(X, y, test_size=0.2, random_state=42)"
   ]
  },
  {
   "cell_type": "code",
   "execution_count": 31,
   "id": "4e239938",
   "metadata": {
    "execution": {
     "iopub.execute_input": "2024-03-20T08:42:39.534479Z",
     "iopub.status.busy": "2024-03-20T08:42:39.533987Z",
     "iopub.status.idle": "2024-03-20T08:42:39.539720Z",
     "shell.execute_reply": "2024-03-20T08:42:39.538521Z"
    },
    "papermill": {
     "duration": 0.033353,
     "end_time": "2024-03-20T08:42:39.542069",
     "exception": false,
     "start_time": "2024-03-20T08:42:39.508716",
     "status": "completed"
    },
    "tags": []
   },
   "outputs": [],
   "source": [
    "rf_Model = RandomForestClassifier()"
   ]
  },
  {
   "cell_type": "code",
   "execution_count": 32,
   "id": "c64a6395",
   "metadata": {
    "execution": {
     "iopub.execute_input": "2024-03-20T08:42:39.591923Z",
     "iopub.status.busy": "2024-03-20T08:42:39.591475Z",
     "iopub.status.idle": "2024-03-20T08:42:50.429876Z",
     "shell.execute_reply": "2024-03-20T08:42:50.428512Z"
    },
    "papermill": {
     "duration": 10.867203,
     "end_time": "2024-03-20T08:42:50.433078",
     "exception": false,
     "start_time": "2024-03-20T08:42:39.565875",
     "status": "completed"
    },
    "tags": []
   },
   "outputs": [
    {
     "data": {
      "text/html": [
       "<style>#sk-container-id-2 {color: black;background-color: white;}#sk-container-id-2 pre{padding: 0;}#sk-container-id-2 div.sk-toggleable {background-color: white;}#sk-container-id-2 label.sk-toggleable__label {cursor: pointer;display: block;width: 100%;margin-bottom: 0;padding: 0.3em;box-sizing: border-box;text-align: center;}#sk-container-id-2 label.sk-toggleable__label-arrow:before {content: \"▸\";float: left;margin-right: 0.25em;color: #696969;}#sk-container-id-2 label.sk-toggleable__label-arrow:hover:before {color: black;}#sk-container-id-2 div.sk-estimator:hover label.sk-toggleable__label-arrow:before {color: black;}#sk-container-id-2 div.sk-toggleable__content {max-height: 0;max-width: 0;overflow: hidden;text-align: left;background-color: #f0f8ff;}#sk-container-id-2 div.sk-toggleable__content pre {margin: 0.2em;color: black;border-radius: 0.25em;background-color: #f0f8ff;}#sk-container-id-2 input.sk-toggleable__control:checked~div.sk-toggleable__content {max-height: 200px;max-width: 100%;overflow: auto;}#sk-container-id-2 input.sk-toggleable__control:checked~label.sk-toggleable__label-arrow:before {content: \"▾\";}#sk-container-id-2 div.sk-estimator input.sk-toggleable__control:checked~label.sk-toggleable__label {background-color: #d4ebff;}#sk-container-id-2 div.sk-label input.sk-toggleable__control:checked~label.sk-toggleable__label {background-color: #d4ebff;}#sk-container-id-2 input.sk-hidden--visually {border: 0;clip: rect(1px 1px 1px 1px);clip: rect(1px, 1px, 1px, 1px);height: 1px;margin: -1px;overflow: hidden;padding: 0;position: absolute;width: 1px;}#sk-container-id-2 div.sk-estimator {font-family: monospace;background-color: #f0f8ff;border: 1px dotted black;border-radius: 0.25em;box-sizing: border-box;margin-bottom: 0.5em;}#sk-container-id-2 div.sk-estimator:hover {background-color: #d4ebff;}#sk-container-id-2 div.sk-parallel-item::after {content: \"\";width: 100%;border-bottom: 1px solid gray;flex-grow: 1;}#sk-container-id-2 div.sk-label:hover label.sk-toggleable__label {background-color: #d4ebff;}#sk-container-id-2 div.sk-serial::before {content: \"\";position: absolute;border-left: 1px solid gray;box-sizing: border-box;top: 0;bottom: 0;left: 50%;z-index: 0;}#sk-container-id-2 div.sk-serial {display: flex;flex-direction: column;align-items: center;background-color: white;padding-right: 0.2em;padding-left: 0.2em;position: relative;}#sk-container-id-2 div.sk-item {position: relative;z-index: 1;}#sk-container-id-2 div.sk-parallel {display: flex;align-items: stretch;justify-content: center;background-color: white;position: relative;}#sk-container-id-2 div.sk-item::before, #sk-container-id-2 div.sk-parallel-item::before {content: \"\";position: absolute;border-left: 1px solid gray;box-sizing: border-box;top: 0;bottom: 0;left: 50%;z-index: -1;}#sk-container-id-2 div.sk-parallel-item {display: flex;flex-direction: column;z-index: 1;position: relative;background-color: white;}#sk-container-id-2 div.sk-parallel-item:first-child::after {align-self: flex-end;width: 50%;}#sk-container-id-2 div.sk-parallel-item:last-child::after {align-self: flex-start;width: 50%;}#sk-container-id-2 div.sk-parallel-item:only-child::after {width: 0;}#sk-container-id-2 div.sk-dashed-wrapped {border: 1px dashed gray;margin: 0 0.4em 0.5em 0.4em;box-sizing: border-box;padding-bottom: 0.4em;background-color: white;}#sk-container-id-2 div.sk-label label {font-family: monospace;font-weight: bold;display: inline-block;line-height: 1.2em;}#sk-container-id-2 div.sk-label-container {text-align: center;}#sk-container-id-2 div.sk-container {/* jupyter's `normalize.less` sets `[hidden] { display: none; }` but bootstrap.min.css set `[hidden] { display: none !important; }` so we also need the `!important` here to be able to override the default hidden behavior on the sphinx rendered scikit-learn.org. See: https://github.com/scikit-learn/scikit-learn/issues/21755 */display: inline-block !important;position: relative;}#sk-container-id-2 div.sk-text-repr-fallback {display: none;}</style><div id=\"sk-container-id-2\" class=\"sk-top-container\"><div class=\"sk-text-repr-fallback\"><pre>RandomForestClassifier()</pre><b>In a Jupyter environment, please rerun this cell to show the HTML representation or trust the notebook. <br />On GitHub, the HTML representation is unable to render, please try loading this page with nbviewer.org.</b></div><div class=\"sk-container\" hidden><div class=\"sk-item\"><div class=\"sk-estimator sk-toggleable\"><input class=\"sk-toggleable__control sk-hidden--visually\" id=\"sk-estimator-id-2\" type=\"checkbox\" checked><label for=\"sk-estimator-id-2\" class=\"sk-toggleable__label sk-toggleable__label-arrow\">RandomForestClassifier</label><div class=\"sk-toggleable__content\"><pre>RandomForestClassifier()</pre></div></div></div></div></div>"
      ],
      "text/plain": [
       "RandomForestClassifier()"
      ]
     },
     "execution_count": 32,
     "metadata": {},
     "output_type": "execute_result"
    }
   ],
   "source": [
    "rf_Model.fit(X_train,y_train)\n"
   ]
  },
  {
   "cell_type": "code",
   "execution_count": 33,
   "id": "57591e44",
   "metadata": {
    "execution": {
     "iopub.execute_input": "2024-03-20T08:42:50.486209Z",
     "iopub.status.busy": "2024-03-20T08:42:50.485719Z",
     "iopub.status.idle": "2024-03-20T08:42:53.084923Z",
     "shell.execute_reply": "2024-03-20T08:42:53.083303Z"
    },
    "papermill": {
     "duration": 2.628797,
     "end_time": "2024-03-20T08:42:53.088376",
     "exception": false,
     "start_time": "2024-03-20T08:42:50.459579",
     "status": "completed"
    },
    "tags": []
   },
   "outputs": [
    {
     "name": "stdout",
     "output_type": "stream",
     "text": [
      "Train Accuracy - : 0.921\n",
      "Test Accuracy - : 0.879\n"
     ]
    }
   ],
   "source": [
    "print (f'Train Accuracy - : {rf_Model.score(X_train,y_train):.3f}')\n",
    "print (f'Test Accuracy - : {rf_Model.score(X_test,y_test):.3f}')"
   ]
  },
  {
   "cell_type": "markdown",
   "id": "7d381df4",
   "metadata": {
    "papermill": {
     "duration": 0.02651,
     "end_time": "2024-03-20T08:42:53.140462",
     "exception": false,
     "start_time": "2024-03-20T08:42:53.113952",
     "status": "completed"
    },
    "tags": []
   },
   "source": [
    "# Setting the sampling frequency and duration for EEG data collection"
   ]
  },
  {
   "cell_type": "code",
   "execution_count": 34,
   "id": "038a1387",
   "metadata": {
    "execution": {
     "iopub.execute_input": "2024-03-20T08:42:53.198062Z",
     "iopub.status.busy": "2024-03-20T08:42:53.197541Z",
     "iopub.status.idle": "2024-03-20T08:43:04.521622Z",
     "shell.execute_reply": "2024-03-20T08:43:04.520186Z"
    },
    "papermill": {
     "duration": 11.358352,
     "end_time": "2024-03-20T08:43:04.526161",
     "exception": false,
     "start_time": "2024-03-20T08:42:53.167809",
     "status": "completed"
    },
    "tags": []
   },
   "outputs": [
    {
     "name": "stderr",
     "output_type": "stream",
     "text": [
      "100%|██████████| 500/500 [00:11<00:00, 44.25it/s]\n"
     ]
    }
   ],
   "source": [
    "\n",
    "sampling_frequency = 200  # Sampling frequency in Hz\n",
    "data_collection_duration = 50  # Duration of EEG data collection in seconds\n",
    "total_samples = sampling_frequency * data_collection_duration  # Total number of samples in the duration\n",
    "\n",
    "# Setting the number of training data points\n",
    "num_train_data_points = 500  \n",
    "\n",
    "# Creating an empty DataFrame to store training data\n",
    "training_data_df = pd.DataFrame()\n",
    "\n",
    "# Iterating over each training data point\n",
    "for i in tqdm.tqdm(range(num_train_data_points)):\n",
    "    # Loading EEG data for a specified eeg_id\n",
    "    eeg_id = df.loc[i, 'eeg_id']\n",
    "    eeg_data = pd.read_parquet(os.path.join(PDIR, 'train_eegs', f'{eeg_id}.parquet'))\n",
    "    \n",
    "    # Extracting EEG data from the Cz electrode for 50 seconds\n",
    "    label_offset_time = df.loc[i, 'eeg_label_offset_seconds']  # Offset time for the EEG label\n",
    "    label_offset_index = int(sampling_frequency * label_offset_time)  # Calculating offset index\n",
    "    cz_electrode_data = eeg_data['Cz'][label_offset_index:label_offset_index + total_samples]  # Extracting data for Cz electrode\n",
    "    \n",
    "    # Adding the extracted data as a row to the training DataFrame\n",
    "    training_data_df = pd.concat([training_data_df, cz_electrode_data.reset_index(drop=True).to_frame().transpose()], axis=0)"
   ]
  },
  {
   "cell_type": "markdown",
   "id": "964ed29a",
   "metadata": {
    "papermill": {
     "duration": 0.033449,
     "end_time": "2024-03-20T08:43:04.593622",
     "exception": false,
     "start_time": "2024-03-20T08:43:04.560173",
     "status": "completed"
    },
    "tags": []
   },
   "source": [
    "# Prepare features (X_train) and target variable (y_train)"
   ]
  },
  {
   "cell_type": "code",
   "execution_count": 35,
   "id": "b34a9f09",
   "metadata": {
    "execution": {
     "iopub.execute_input": "2024-03-20T08:43:04.672450Z",
     "iopub.status.busy": "2024-03-20T08:43:04.671954Z",
     "iopub.status.idle": "2024-03-20T08:43:04.765424Z",
     "shell.execute_reply": "2024-03-20T08:43:04.764082Z"
    },
    "papermill": {
     "duration": 0.13924,
     "end_time": "2024-03-20T08:43:04.768416",
     "exception": false,
     "start_time": "2024-03-20T08:43:04.629176",
     "status": "completed"
    },
    "tags": []
   },
   "outputs": [
    {
     "data": {
      "text/html": [
       "<div>\n",
       "<style scoped>\n",
       "    .dataframe tbody tr th:only-of-type {\n",
       "        vertical-align: middle;\n",
       "    }\n",
       "\n",
       "    .dataframe tbody tr th {\n",
       "        vertical-align: top;\n",
       "    }\n",
       "\n",
       "    .dataframe thead th {\n",
       "        text-align: right;\n",
       "    }\n",
       "</style>\n",
       "<table border=\"1\" class=\"dataframe\">\n",
       "  <thead>\n",
       "    <tr style=\"text-align: right;\">\n",
       "      <th></th>\n",
       "      <th>0</th>\n",
       "      <th>1</th>\n",
       "      <th>2</th>\n",
       "      <th>3</th>\n",
       "      <th>4</th>\n",
       "      <th>5</th>\n",
       "      <th>6</th>\n",
       "      <th>7</th>\n",
       "      <th>8</th>\n",
       "      <th>9</th>\n",
       "      <th>...</th>\n",
       "      <th>9990</th>\n",
       "      <th>9991</th>\n",
       "      <th>9992</th>\n",
       "      <th>9993</th>\n",
       "      <th>9994</th>\n",
       "      <th>9995</th>\n",
       "      <th>9996</th>\n",
       "      <th>9997</th>\n",
       "      <th>9998</th>\n",
       "      <th>9999</th>\n",
       "    </tr>\n",
       "  </thead>\n",
       "  <tbody>\n",
       "    <tr>\n",
       "      <th>0</th>\n",
       "      <td>-90.389999</td>\n",
       "      <td>-92.290001</td>\n",
       "      <td>-99.360001</td>\n",
       "      <td>-102.059998</td>\n",
       "      <td>-102.339996</td>\n",
       "      <td>-110.010002</td>\n",
       "      <td>-116.750000</td>\n",
       "      <td>-119.589996</td>\n",
       "      <td>-125.669998</td>\n",
       "      <td>-130.449997</td>\n",
       "      <td>...</td>\n",
       "      <td>-155.089996</td>\n",
       "      <td>-147.919998</td>\n",
       "      <td>-147.800003</td>\n",
       "      <td>-148.600006</td>\n",
       "      <td>-151.929993</td>\n",
       "      <td>-155.830002</td>\n",
       "      <td>-158.360001</td>\n",
       "      <td>-155.119995</td>\n",
       "      <td>-146.800003</td>\n",
       "      <td>-149.880005</td>\n",
       "    </tr>\n",
       "    <tr>\n",
       "      <th>1</th>\n",
       "      <td>-112.110001</td>\n",
       "      <td>-107.370003</td>\n",
       "      <td>-104.839996</td>\n",
       "      <td>-95.480003</td>\n",
       "      <td>-85.459999</td>\n",
       "      <td>-90.580002</td>\n",
       "      <td>-83.879997</td>\n",
       "      <td>-78.959999</td>\n",
       "      <td>-88.379997</td>\n",
       "      <td>-88.120003</td>\n",
       "      <td>...</td>\n",
       "      <td>-100.250000</td>\n",
       "      <td>-110.709999</td>\n",
       "      <td>-104.199997</td>\n",
       "      <td>-138.100006</td>\n",
       "      <td>-119.809998</td>\n",
       "      <td>-129.869995</td>\n",
       "      <td>-158.889999</td>\n",
       "      <td>-168.910004</td>\n",
       "      <td>-108.779999</td>\n",
       "      <td>-112.529999</td>\n",
       "    </tr>\n",
       "    <tr>\n",
       "      <th>2</th>\n",
       "      <td>-104.110001</td>\n",
       "      <td>-106.080002</td>\n",
       "      <td>-101.510002</td>\n",
       "      <td>-99.449997</td>\n",
       "      <td>-100.690002</td>\n",
       "      <td>-105.750000</td>\n",
       "      <td>-111.870003</td>\n",
       "      <td>-118.680000</td>\n",
       "      <td>-131.229996</td>\n",
       "      <td>-130.729996</td>\n",
       "      <td>...</td>\n",
       "      <td>-113.589996</td>\n",
       "      <td>-129.960007</td>\n",
       "      <td>-115.879997</td>\n",
       "      <td>-130.809998</td>\n",
       "      <td>-128.110001</td>\n",
       "      <td>-115.610001</td>\n",
       "      <td>-123.510002</td>\n",
       "      <td>-111.980003</td>\n",
       "      <td>-121.190002</td>\n",
       "      <td>-104.230003</td>\n",
       "    </tr>\n",
       "    <tr>\n",
       "      <th>3</th>\n",
       "      <td>-102.570000</td>\n",
       "      <td>-105.430000</td>\n",
       "      <td>-107.839996</td>\n",
       "      <td>-103.570000</td>\n",
       "      <td>-102.209999</td>\n",
       "      <td>-103.209999</td>\n",
       "      <td>-104.650002</td>\n",
       "      <td>-110.830002</td>\n",
       "      <td>-112.779999</td>\n",
       "      <td>-114.830002</td>\n",
       "      <td>...</td>\n",
       "      <td>-33.959999</td>\n",
       "      <td>-37.450001</td>\n",
       "      <td>-44.020000</td>\n",
       "      <td>-26.690001</td>\n",
       "      <td>-30.280001</td>\n",
       "      <td>-47.490002</td>\n",
       "      <td>-36.660000</td>\n",
       "      <td>-32.709999</td>\n",
       "      <td>-45.189999</td>\n",
       "      <td>-38.779999</td>\n",
       "    </tr>\n",
       "    <tr>\n",
       "      <th>4</th>\n",
       "      <td>-140.699997</td>\n",
       "      <td>-141.720001</td>\n",
       "      <td>-143.240005</td>\n",
       "      <td>-142.779999</td>\n",
       "      <td>-142.960007</td>\n",
       "      <td>-142.880005</td>\n",
       "      <td>-137.979996</td>\n",
       "      <td>-127.849998</td>\n",
       "      <td>-127.879997</td>\n",
       "      <td>-123.419998</td>\n",
       "      <td>...</td>\n",
       "      <td>-111.209999</td>\n",
       "      <td>-103.180000</td>\n",
       "      <td>-95.430000</td>\n",
       "      <td>-93.209999</td>\n",
       "      <td>-90.269997</td>\n",
       "      <td>-94.730003</td>\n",
       "      <td>-92.769997</td>\n",
       "      <td>-81.360001</td>\n",
       "      <td>-73.510002</td>\n",
       "      <td>-74.540001</td>\n",
       "    </tr>\n",
       "  </tbody>\n",
       "</table>\n",
       "<p>5 rows × 10000 columns</p>\n",
       "</div>"
      ],
      "text/plain": [
       "         0           1           2           3           4           5     \\\n",
       "0  -90.389999  -92.290001  -99.360001 -102.059998 -102.339996 -110.010002   \n",
       "1 -112.110001 -107.370003 -104.839996  -95.480003  -85.459999  -90.580002   \n",
       "2 -104.110001 -106.080002 -101.510002  -99.449997 -100.690002 -105.750000   \n",
       "3 -102.570000 -105.430000 -107.839996 -103.570000 -102.209999 -103.209999   \n",
       "4 -140.699997 -141.720001 -143.240005 -142.779999 -142.960007 -142.880005   \n",
       "\n",
       "         6           7           8           9     ...        9990  \\\n",
       "0 -116.750000 -119.589996 -125.669998 -130.449997  ... -155.089996   \n",
       "1  -83.879997  -78.959999  -88.379997  -88.120003  ... -100.250000   \n",
       "2 -111.870003 -118.680000 -131.229996 -130.729996  ... -113.589996   \n",
       "3 -104.650002 -110.830002 -112.779999 -114.830002  ...  -33.959999   \n",
       "4 -137.979996 -127.849998 -127.879997 -123.419998  ... -111.209999   \n",
       "\n",
       "         9991        9992        9993        9994        9995        9996  \\\n",
       "0 -147.919998 -147.800003 -148.600006 -151.929993 -155.830002 -158.360001   \n",
       "1 -110.709999 -104.199997 -138.100006 -119.809998 -129.869995 -158.889999   \n",
       "2 -129.960007 -115.879997 -130.809998 -128.110001 -115.610001 -123.510002   \n",
       "3  -37.450001  -44.020000  -26.690001  -30.280001  -47.490002  -36.660000   \n",
       "4 -103.180000  -95.430000  -93.209999  -90.269997  -94.730003  -92.769997   \n",
       "\n",
       "         9997        9998        9999  \n",
       "0 -155.119995 -146.800003 -149.880005  \n",
       "1 -168.910004 -108.779999 -112.529999  \n",
       "2 -111.980003 -121.190002 -104.230003  \n",
       "3  -32.709999  -45.189999  -38.779999  \n",
       "4  -81.360001  -73.510002  -74.540001  \n",
       "\n",
       "[5 rows x 10000 columns]"
      ]
     },
     "metadata": {},
     "output_type": "display_data"
    }
   ],
   "source": [
    "# Adding diagnosis results\n",
    "training_data_df['expert_consensus'] = df[:num_train_data_points]['expert_consensus'].values\n",
    "\n",
    "# Removing rows with missing values\n",
    "training_data_df = training_data_df.dropna()\n",
    "training_data_df = training_data_df.reset_index(drop=True)\n",
    "\n",
    "# Separating data into features and target\n",
    "y_train = training_data_df['expert_consensus']\n",
    "X_train = training_data_df.drop('expert_consensus', axis=1)\n",
    "\n",
    "# Displaying the first few rows of the feature  dataset\n",
    "display(X_train.head())"
   ]
  },
  {
   "cell_type": "markdown",
   "id": "cf0595d1",
   "metadata": {
    "papermill": {
     "duration": 0.033871,
     "end_time": "2024-03-20T08:43:04.837580",
     "exception": false,
     "start_time": "2024-03-20T08:43:04.803709",
     "status": "completed"
    },
    "tags": []
   },
   "source": [
    "# Train RandomForestClassifier()\n"
   ]
  },
  {
   "cell_type": "code",
   "execution_count": 36,
   "id": "65465df7",
   "metadata": {
    "execution": {
     "iopub.execute_input": "2024-03-20T08:43:04.911792Z",
     "iopub.status.busy": "2024-03-20T08:43:04.911296Z",
     "iopub.status.idle": "2024-03-20T08:43:07.953944Z",
     "shell.execute_reply": "2024-03-20T08:43:07.952174Z"
    },
    "papermill": {
     "duration": 3.08191,
     "end_time": "2024-03-20T08:43:07.957044",
     "exception": false,
     "start_time": "2024-03-20T08:43:04.875134",
     "status": "completed"
    },
    "tags": []
   },
   "outputs": [
    {
     "data": {
      "text/html": [
       "<style>#sk-container-id-3 {color: black;background-color: white;}#sk-container-id-3 pre{padding: 0;}#sk-container-id-3 div.sk-toggleable {background-color: white;}#sk-container-id-3 label.sk-toggleable__label {cursor: pointer;display: block;width: 100%;margin-bottom: 0;padding: 0.3em;box-sizing: border-box;text-align: center;}#sk-container-id-3 label.sk-toggleable__label-arrow:before {content: \"▸\";float: left;margin-right: 0.25em;color: #696969;}#sk-container-id-3 label.sk-toggleable__label-arrow:hover:before {color: black;}#sk-container-id-3 div.sk-estimator:hover label.sk-toggleable__label-arrow:before {color: black;}#sk-container-id-3 div.sk-toggleable__content {max-height: 0;max-width: 0;overflow: hidden;text-align: left;background-color: #f0f8ff;}#sk-container-id-3 div.sk-toggleable__content pre {margin: 0.2em;color: black;border-radius: 0.25em;background-color: #f0f8ff;}#sk-container-id-3 input.sk-toggleable__control:checked~div.sk-toggleable__content {max-height: 200px;max-width: 100%;overflow: auto;}#sk-container-id-3 input.sk-toggleable__control:checked~label.sk-toggleable__label-arrow:before {content: \"▾\";}#sk-container-id-3 div.sk-estimator input.sk-toggleable__control:checked~label.sk-toggleable__label {background-color: #d4ebff;}#sk-container-id-3 div.sk-label input.sk-toggleable__control:checked~label.sk-toggleable__label {background-color: #d4ebff;}#sk-container-id-3 input.sk-hidden--visually {border: 0;clip: rect(1px 1px 1px 1px);clip: rect(1px, 1px, 1px, 1px);height: 1px;margin: -1px;overflow: hidden;padding: 0;position: absolute;width: 1px;}#sk-container-id-3 div.sk-estimator {font-family: monospace;background-color: #f0f8ff;border: 1px dotted black;border-radius: 0.25em;box-sizing: border-box;margin-bottom: 0.5em;}#sk-container-id-3 div.sk-estimator:hover {background-color: #d4ebff;}#sk-container-id-3 div.sk-parallel-item::after {content: \"\";width: 100%;border-bottom: 1px solid gray;flex-grow: 1;}#sk-container-id-3 div.sk-label:hover label.sk-toggleable__label {background-color: #d4ebff;}#sk-container-id-3 div.sk-serial::before {content: \"\";position: absolute;border-left: 1px solid gray;box-sizing: border-box;top: 0;bottom: 0;left: 50%;z-index: 0;}#sk-container-id-3 div.sk-serial {display: flex;flex-direction: column;align-items: center;background-color: white;padding-right: 0.2em;padding-left: 0.2em;position: relative;}#sk-container-id-3 div.sk-item {position: relative;z-index: 1;}#sk-container-id-3 div.sk-parallel {display: flex;align-items: stretch;justify-content: center;background-color: white;position: relative;}#sk-container-id-3 div.sk-item::before, #sk-container-id-3 div.sk-parallel-item::before {content: \"\";position: absolute;border-left: 1px solid gray;box-sizing: border-box;top: 0;bottom: 0;left: 50%;z-index: -1;}#sk-container-id-3 div.sk-parallel-item {display: flex;flex-direction: column;z-index: 1;position: relative;background-color: white;}#sk-container-id-3 div.sk-parallel-item:first-child::after {align-self: flex-end;width: 50%;}#sk-container-id-3 div.sk-parallel-item:last-child::after {align-self: flex-start;width: 50%;}#sk-container-id-3 div.sk-parallel-item:only-child::after {width: 0;}#sk-container-id-3 div.sk-dashed-wrapped {border: 1px dashed gray;margin: 0 0.4em 0.5em 0.4em;box-sizing: border-box;padding-bottom: 0.4em;background-color: white;}#sk-container-id-3 div.sk-label label {font-family: monospace;font-weight: bold;display: inline-block;line-height: 1.2em;}#sk-container-id-3 div.sk-label-container {text-align: center;}#sk-container-id-3 div.sk-container {/* jupyter's `normalize.less` sets `[hidden] { display: none; }` but bootstrap.min.css set `[hidden] { display: none !important; }` so we also need the `!important` here to be able to override the default hidden behavior on the sphinx rendered scikit-learn.org. See: https://github.com/scikit-learn/scikit-learn/issues/21755 */display: inline-block !important;position: relative;}#sk-container-id-3 div.sk-text-repr-fallback {display: none;}</style><div id=\"sk-container-id-3\" class=\"sk-top-container\"><div class=\"sk-text-repr-fallback\"><pre>RandomForestClassifier(random_state=0)</pre><b>In a Jupyter environment, please rerun this cell to show the HTML representation or trust the notebook. <br />On GitHub, the HTML representation is unable to render, please try loading this page with nbviewer.org.</b></div><div class=\"sk-container\" hidden><div class=\"sk-item\"><div class=\"sk-estimator sk-toggleable\"><input class=\"sk-toggleable__control sk-hidden--visually\" id=\"sk-estimator-id-3\" type=\"checkbox\" checked><label for=\"sk-estimator-id-3\" class=\"sk-toggleable__label sk-toggleable__label-arrow\">RandomForestClassifier</label><div class=\"sk-toggleable__content\"><pre>RandomForestClassifier(random_state=0)</pre></div></div></div></div></div>"
      ],
      "text/plain": [
       "RandomForestClassifier(random_state=0)"
      ]
     },
     "execution_count": 36,
     "metadata": {},
     "output_type": "execute_result"
    }
   ],
   "source": [
    "# Initializing a RandomForestClassifier with a random state of 0\n",
    "forest = RandomForestClassifier(random_state=0)\n",
    "\n",
    "# Fitting the classifier to the training data\n",
    "forest.fit(X_train, y_train)"
   ]
  },
  {
   "cell_type": "markdown",
   "id": "fe496ad4",
   "metadata": {
    "papermill": {
     "duration": 0.033124,
     "end_time": "2024-03-20T08:43:08.024800",
     "exception": false,
     "start_time": "2024-03-20T08:43:07.991676",
     "status": "completed"
    },
    "tags": []
   },
   "source": [
    "# Reading the CSV file 'test.csv' located in the directory specified by PDIR"
   ]
  },
  {
   "cell_type": "code",
   "execution_count": 37,
   "id": "e3b991e6",
   "metadata": {
    "execution": {
     "iopub.execute_input": "2024-03-20T08:43:08.094940Z",
     "iopub.status.busy": "2024-03-20T08:43:08.093606Z",
     "iopub.status.idle": "2024-03-20T08:43:08.112741Z",
     "shell.execute_reply": "2024-03-20T08:43:08.111457Z"
    },
    "papermill": {
     "duration": 0.057055,
     "end_time": "2024-03-20T08:43:08.115517",
     "exception": false,
     "start_time": "2024-03-20T08:43:08.058462",
     "status": "completed"
    },
    "tags": []
   },
   "outputs": [
    {
     "data": {
      "text/html": [
       "<div>\n",
       "<style scoped>\n",
       "    .dataframe tbody tr th:only-of-type {\n",
       "        vertical-align: middle;\n",
       "    }\n",
       "\n",
       "    .dataframe tbody tr th {\n",
       "        vertical-align: top;\n",
       "    }\n",
       "\n",
       "    .dataframe thead th {\n",
       "        text-align: right;\n",
       "    }\n",
       "</style>\n",
       "<table border=\"1\" class=\"dataframe\">\n",
       "  <thead>\n",
       "    <tr style=\"text-align: right;\">\n",
       "      <th></th>\n",
       "      <th>spectrogram_id</th>\n",
       "      <th>eeg_id</th>\n",
       "      <th>patient_id</th>\n",
       "    </tr>\n",
       "  </thead>\n",
       "  <tbody>\n",
       "    <tr>\n",
       "      <th>0</th>\n",
       "      <td>853520</td>\n",
       "      <td>3911565283</td>\n",
       "      <td>6885</td>\n",
       "    </tr>\n",
       "  </tbody>\n",
       "</table>\n",
       "</div>"
      ],
      "text/plain": [
       "   spectrogram_id      eeg_id  patient_id\n",
       "0          853520  3911565283        6885"
      ]
     },
     "metadata": {},
     "output_type": "display_data"
    }
   ],
   "source": [
    "\n",
    "df_test = pd.read_csv(os.path.join(PDIR, 'test.csv'))\n",
    "\n",
    "# Displaying the first few rows of the DataFrame\n",
    "display(df_test.head())"
   ]
  },
  {
   "cell_type": "markdown",
   "id": "7e3c1d6c",
   "metadata": {
    "papermill": {
     "duration": 0.033547,
     "end_time": "2024-03-20T08:43:08.183282",
     "exception": false,
     "start_time": "2024-03-20T08:43:08.149735",
     "status": "completed"
    },
    "tags": []
   },
   "source": [
    "# Creating an empty DataFrame to store testing data"
   ]
  },
  {
   "cell_type": "code",
   "execution_count": 38,
   "id": "7a6414f3",
   "metadata": {
    "execution": {
     "iopub.execute_input": "2024-03-20T08:43:08.256823Z",
     "iopub.status.busy": "2024-03-20T08:43:08.255827Z",
     "iopub.status.idle": "2024-03-20T08:43:08.304705Z",
     "shell.execute_reply": "2024-03-20T08:43:08.303370Z"
    },
    "papermill": {
     "duration": 0.089129,
     "end_time": "2024-03-20T08:43:08.307651",
     "exception": false,
     "start_time": "2024-03-20T08:43:08.218522",
     "status": "completed"
    },
    "tags": []
   },
   "outputs": [
    {
     "name": "stderr",
     "output_type": "stream",
     "text": [
      "100%|██████████| 1/1 [00:00<00:00, 28.69it/s]\n"
     ]
    }
   ],
   "source": [
    "\n",
    "X_test = pd.DataFrame()\n",
    "\n",
    "# Iterating over each test data point\n",
    "for i in tqdm.tqdm(range(len(df_test))):\n",
    "    # Loading EEG data for a specified eeg_id\n",
    "    eeg_id_ = df_test.loc[i, 'eeg_id']\n",
    "    tmp = pd.read_parquet(os.path.join(PDIR, 'test_eegs', f'{eeg_id_}.parquet'))\n",
    "    \n",
    "    # Extracting EEG data from the Cz electrode\n",
    "    cz_electrode_data = tmp['Cz']\n",
    "    \n",
    "    # Adding the extracted data as a row to the testing DataFrame\n",
    "    X_test = pd.concat([X_test, cz_electrode_data.reset_index(drop=True).to_frame().transpose()], axis=0)"
   ]
  },
  {
   "cell_type": "markdown",
   "id": "27cd089c",
   "metadata": {
    "papermill": {
     "duration": 0.034998,
     "end_time": "2024-03-20T08:43:08.380393",
     "exception": false,
     "start_time": "2024-03-20T08:43:08.345395",
     "status": "completed"
    },
    "tags": []
   },
   "source": [
    "# Calculate predictions using the trained RandomForestClassifier model\n"
   ]
  },
  {
   "cell_type": "code",
   "execution_count": 39,
   "id": "d2a5ad14",
   "metadata": {
    "execution": {
     "iopub.execute_input": "2024-03-20T08:43:08.452546Z",
     "iopub.status.busy": "2024-03-20T08:43:08.452069Z",
     "iopub.status.idle": "2024-03-20T08:43:08.621204Z",
     "shell.execute_reply": "2024-03-20T08:43:08.619665Z"
    },
    "papermill": {
     "duration": 0.209579,
     "end_time": "2024-03-20T08:43:08.624971",
     "exception": false,
     "start_time": "2024-03-20T08:43:08.415392",
     "status": "completed"
    },
    "tags": []
   },
   "outputs": [
    {
     "name": "stderr",
     "output_type": "stream",
     "text": [
      "100%|██████████| 1/1 [00:00<00:00, 390.93it/s]\n"
     ]
    }
   ],
   "source": [
    "predictions = forest.predict_proba(X_test)\n",
    "\n",
    "# Read the sample submission file\n",
    "submission = pd.read_csv(f'{PDIR}/sample_submission.csv')\n",
    "\n",
    "# Iterate over each test data point\n",
    "for i in tqdm.tqdm(range(len(df_test))):\n",
    "    # Set the 'eeg_id' in the submission DataFrame\n",
    "    submission.loc[i, 'eeg_id'] = df_test.loc[i, 'eeg_id']\n",
    "    \n",
    "    # Set the probability for each class in the submission DataFrame\n",
    "    for j, cls_name in enumerate(forest.classes_):\n",
    "        submission.loc[i, f'{cls_name.lower()}_vote'] = predictions[i, j]"
   ]
  },
  {
   "cell_type": "markdown",
   "id": "5b3d9176",
   "metadata": {
    "papermill": {
     "duration": 0.036062,
     "end_time": "2024-03-20T08:43:08.696593",
     "exception": false,
     "start_time": "2024-03-20T08:43:08.660531",
     "status": "completed"
    },
    "tags": []
   },
   "source": [
    "# Display the submission DataFrame"
   ]
  },
  {
   "cell_type": "code",
   "execution_count": 40,
   "id": "40381b02",
   "metadata": {
    "execution": {
     "iopub.execute_input": "2024-03-20T08:43:08.771783Z",
     "iopub.status.busy": "2024-03-20T08:43:08.771346Z",
     "iopub.status.idle": "2024-03-20T08:43:08.787181Z",
     "shell.execute_reply": "2024-03-20T08:43:08.785826Z"
    },
    "papermill": {
     "duration": 0.0583,
     "end_time": "2024-03-20T08:43:08.790008",
     "exception": false,
     "start_time": "2024-03-20T08:43:08.731708",
     "status": "completed"
    },
    "tags": []
   },
   "outputs": [
    {
     "data": {
      "text/html": [
       "<div>\n",
       "<style scoped>\n",
       "    .dataframe tbody tr th:only-of-type {\n",
       "        vertical-align: middle;\n",
       "    }\n",
       "\n",
       "    .dataframe tbody tr th {\n",
       "        vertical-align: top;\n",
       "    }\n",
       "\n",
       "    .dataframe thead th {\n",
       "        text-align: right;\n",
       "    }\n",
       "</style>\n",
       "<table border=\"1\" class=\"dataframe\">\n",
       "  <thead>\n",
       "    <tr style=\"text-align: right;\">\n",
       "      <th></th>\n",
       "      <th>eeg_id</th>\n",
       "      <th>seizure_vote</th>\n",
       "      <th>lpd_vote</th>\n",
       "      <th>gpd_vote</th>\n",
       "      <th>lrda_vote</th>\n",
       "      <th>grda_vote</th>\n",
       "      <th>other_vote</th>\n",
       "    </tr>\n",
       "  </thead>\n",
       "  <tbody>\n",
       "    <tr>\n",
       "      <th>0</th>\n",
       "      <td>3911565283</td>\n",
       "      <td>0.2</td>\n",
       "      <td>0.0</td>\n",
       "      <td>0.36</td>\n",
       "      <td>0.04</td>\n",
       "      <td>0.13</td>\n",
       "      <td>0.27</td>\n",
       "    </tr>\n",
       "  </tbody>\n",
       "</table>\n",
       "</div>"
      ],
      "text/plain": [
       "       eeg_id  seizure_vote  lpd_vote  gpd_vote  lrda_vote  grda_vote  \\\n",
       "0  3911565283           0.2       0.0      0.36       0.04       0.13   \n",
       "\n",
       "   other_vote  \n",
       "0        0.27  "
      ]
     },
     "metadata": {},
     "output_type": "display_data"
    }
   ],
   "source": [
    "display(submission)"
   ]
  },
  {
   "cell_type": "markdown",
   "id": "51a4f875",
   "metadata": {
    "papermill": {
     "duration": 0.035364,
     "end_time": "2024-03-20T08:43:08.861841",
     "exception": false,
     "start_time": "2024-03-20T08:43:08.826477",
     "status": "completed"
    },
    "tags": []
   },
   "source": [
    "# Saving the submission DataFrame to a CSV file without including the index\n"
   ]
  },
  {
   "cell_type": "code",
   "execution_count": 41,
   "id": "3ca24761",
   "metadata": {
    "execution": {
     "iopub.execute_input": "2024-03-20T08:43:08.935039Z",
     "iopub.status.busy": "2024-03-20T08:43:08.934592Z",
     "iopub.status.idle": "2024-03-20T08:43:08.943645Z",
     "shell.execute_reply": "2024-03-20T08:43:08.942498Z"
    },
    "papermill": {
     "duration": 0.049451,
     "end_time": "2024-03-20T08:43:08.946609",
     "exception": false,
     "start_time": "2024-03-20T08:43:08.897158",
     "status": "completed"
    },
    "tags": []
   },
   "outputs": [],
   "source": [
    "submission.to_csv('submission.csv', index=False)"
   ]
  }
 ],
 "metadata": {
  "kaggle": {
   "accelerator": "none",
   "dataSources": [
    {
     "databundleVersionId": 7469972,
     "sourceId": 59093,
     "sourceType": "competition"
    }
   ],
   "dockerImageVersionId": 30664,
   "isGpuEnabled": false,
   "isInternetEnabled": false,
   "language": "python",
   "sourceType": "notebook"
  },
  "kernelspec": {
   "display_name": "Python 3",
   "language": "python",
   "name": "python3"
  },
  "language_info": {
   "codemirror_mode": {
    "name": "ipython",
    "version": 3
   },
   "file_extension": ".py",
   "mimetype": "text/x-python",
   "name": "python",
   "nbconvert_exporter": "python",
   "pygments_lexer": "ipython3",
   "version": "3.10.13"
  },
  "papermill": {
   "default_parameters": {},
   "duration": 65.446481,
   "end_time": "2024-03-20T08:43:11.934297",
   "environment_variables": {},
   "exception": null,
   "input_path": "__notebook__.ipynb",
   "output_path": "__notebook__.ipynb",
   "parameters": {},
   "start_time": "2024-03-20T08:42:06.487816",
   "version": "2.5.0"
  }
 },
 "nbformat": 4,
 "nbformat_minor": 5
}
